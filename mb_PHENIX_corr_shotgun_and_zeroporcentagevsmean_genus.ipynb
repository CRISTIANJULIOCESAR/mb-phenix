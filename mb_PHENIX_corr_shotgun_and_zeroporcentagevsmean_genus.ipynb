{
  "cells": [
    {
      "cell_type": "code",
      "execution_count": 318,
      "metadata": {
        "id": "HQzkG-Uu2mu1"
      },
      "outputs": [],
      "source": [
        "import requests\n",
        "import os\n",
        "import urllib.request\n",
        "import pandas as pd\n",
        "import seaborn as sns"
      ]
    },
    {
      "cell_type": "code",
      "execution_count": 319,
      "metadata": {
        "id": "K7Gtn2Zme8U0"
      },
      "outputs": [],
      "source": [
        "#original github of 16S and Shotgun https://github.com/wbb121/IBD-data-analysis"
      ]
    },
    {
      "cell_type": "code",
      "source": [
        "#code of sc-PHENIX for computing a small size samples.\n",
        "#you can use this code like mb-phenix\n",
        "import numpy as np\n",
        "import pandas as pd\n",
        "from sklearn.decomposition import PCA\n",
        "from scipy.spatial.distance import pdist\n",
        "from scipy.spatial.distance import squareform\n",
        "\n",
        "\n",
        "def mb_PHENIX(data, umap_data, t=10,decay=15,metric='cosine',knn=10):\n",
        "    \n",
        "    print('calculando distancias eucle')\n",
        "    \n",
        "    distance_matrix =pdist(umap_data, metric)\n",
        "    distance_matrix = (squareform(distance_matrix))\n",
        "    D = distance_matrix\n",
        "    \n",
        "    print(distance_matrix.shape)\n",
        "    print('done distance matrix')\n",
        "    print('knn')\n",
        "\n",
        "    print(' knn done')\n",
        "    print(' afinity matrix')\n",
        "\n",
        "\n",
        "    n,m =D.shape\n",
        "\n",
        "    E = np.zeros((m,m))\n",
        "    \n",
        "    knn_dst = np.sort(distance_matrix, axis=1)\n",
        "    \n",
        "\n",
        "    epsilon = knn_dst[:,knn]\n",
        "    \n",
        "    \n",
        "    pdx_scale = (distance_matrix / epsilon).T \n",
        "    \n",
        "    E = np.exp(-1 * ( pdx_scale ** decay))\n",
        "    \n",
        "    print(' afinity matrix done')\n",
        "    \n",
        "    A = (E + E.T)\n",
        "    \n",
        "    diff_deg = np.diag(np.sum(A,0))\n",
        "    \n",
        "    \n",
        "    diff_op = np.dot(np.diag(np.diag(diff_deg)**(-1)),A)\n",
        "    \n",
        "\n",
        "    new_matrix =  np.linalg.matrix_power(diff_op, t)\n",
        "\n",
        "    data_new = np.array(np.dot(new_matrix,data))\n",
        "\n",
        "    return (Matix_impu)\n",
        "     "
      ],
      "metadata": {
        "id": "wyqr-D5BC0Re"
      },
      "execution_count": 320,
      "outputs": []
    },
    {
      "cell_type": "code",
      "execution_count": 321,
      "metadata": {
        "colab": {
          "base_uri": "https://localhost:8080/"
        },
        "id": "q4vqZh7ro2Wc",
        "outputId": "ae2fb74d-260a-4cc9-e1e3-052a2db198f9"
      },
      "outputs": [
        {
          "output_type": "stream",
          "name": "stdout",
          "text": [
            "Looking in indexes: https://pypi.org/simple, https://us-python.pkg.dev/colab-wheels/public/simple/\n",
            "Requirement already satisfied: umap-learn in /usr/local/lib/python3.9/dist-packages (0.5.3)\n",
            "Requirement already satisfied: magic-impute in /usr/local/lib/python3.9/dist-packages (3.0.0)\n",
            "Requirement already satisfied: shap in /usr/local/lib/python3.9/dist-packages (0.41.0)\n",
            "Requirement already satisfied: numpy>=1.17 in /usr/local/lib/python3.9/dist-packages (from umap-learn) (1.22.4)\n",
            "Requirement already satisfied: scipy>=1.0 in /usr/local/lib/python3.9/dist-packages (from umap-learn) (1.10.1)\n",
            "Requirement already satisfied: pynndescent>=0.5 in /usr/local/lib/python3.9/dist-packages (from umap-learn) (0.5.9)\n",
            "Requirement already satisfied: tqdm in /usr/local/lib/python3.9/dist-packages (from umap-learn) (4.65.0)\n",
            "Requirement already satisfied: numba>=0.49 in /usr/local/lib/python3.9/dist-packages (from umap-learn) (0.56.4)\n",
            "Requirement already satisfied: scikit-learn>=0.22 in /usr/local/lib/python3.9/dist-packages (from umap-learn) (1.2.2)\n",
            "Requirement already satisfied: tasklogger>=1.0.0 in /usr/local/lib/python3.9/dist-packages (from magic-impute) (1.2.0)\n",
            "Requirement already satisfied: pandas>=0.25 in /usr/local/lib/python3.9/dist-packages (from magic-impute) (1.3.5)\n",
            "Requirement already satisfied: graphtools>=1.4.0 in /usr/local/lib/python3.9/dist-packages (from magic-impute) (1.5.3)\n",
            "Requirement already satisfied: future in /usr/local/lib/python3.9/dist-packages (from magic-impute) (0.18.3)\n",
            "Requirement already satisfied: scprep>=1.0 in /usr/local/lib/python3.9/dist-packages (from magic-impute) (1.2.2)\n",
            "Requirement already satisfied: matplotlib in /usr/local/lib/python3.9/dist-packages (from magic-impute) (3.7.1)\n",
            "Requirement already satisfied: packaging>20.9 in /usr/local/lib/python3.9/dist-packages (from shap) (23.0)\n",
            "Requirement already satisfied: cloudpickle in /usr/local/lib/python3.9/dist-packages (from shap) (2.2.1)\n",
            "Requirement already satisfied: slicer==0.0.7 in /usr/local/lib/python3.9/dist-packages (from shap) (0.0.7)\n",
            "Requirement already satisfied: Deprecated in /usr/local/lib/python3.9/dist-packages (from graphtools>=1.4.0->magic-impute) (1.2.13)\n",
            "Requirement already satisfied: pygsp>=0.5.1 in /usr/local/lib/python3.9/dist-packages (from graphtools>=1.4.0->magic-impute) (0.5.1)\n",
            "Requirement already satisfied: llvmlite<0.40,>=0.39.0dev0 in /usr/local/lib/python3.9/dist-packages (from numba>=0.49->umap-learn) (0.39.1)\n",
            "Requirement already satisfied: setuptools in /usr/local/lib/python3.9/dist-packages (from numba>=0.49->umap-learn) (67.6.1)\n",
            "Requirement already satisfied: python-dateutil>=2.7.3 in /usr/local/lib/python3.9/dist-packages (from pandas>=0.25->magic-impute) (2.8.2)\n",
            "Requirement already satisfied: pytz>=2017.3 in /usr/local/lib/python3.9/dist-packages (from pandas>=0.25->magic-impute) (2022.7.1)\n",
            "Requirement already satisfied: joblib>=0.11 in /usr/local/lib/python3.9/dist-packages (from pynndescent>=0.5->umap-learn) (1.2.0)\n",
            "Requirement already satisfied: threadpoolctl>=2.0.0 in /usr/local/lib/python3.9/dist-packages (from scikit-learn>=0.22->umap-learn) (3.1.0)\n",
            "Requirement already satisfied: decorator>=4.3.0 in /usr/local/lib/python3.9/dist-packages (from scprep>=1.0->magic-impute) (4.4.2)\n",
            "Requirement already satisfied: kiwisolver>=1.0.1 in /usr/local/lib/python3.9/dist-packages (from matplotlib->magic-impute) (1.4.4)\n",
            "Requirement already satisfied: cycler>=0.10 in /usr/local/lib/python3.9/dist-packages (from matplotlib->magic-impute) (0.11.0)\n",
            "Requirement already satisfied: pyparsing>=2.3.1 in /usr/local/lib/python3.9/dist-packages (from matplotlib->magic-impute) (3.0.9)\n",
            "Requirement already satisfied: fonttools>=4.22.0 in /usr/local/lib/python3.9/dist-packages (from matplotlib->magic-impute) (4.39.3)\n",
            "Requirement already satisfied: importlib-resources>=3.2.0 in /usr/local/lib/python3.9/dist-packages (from matplotlib->magic-impute) (5.12.0)\n",
            "Requirement already satisfied: contourpy>=1.0.1 in /usr/local/lib/python3.9/dist-packages (from matplotlib->magic-impute) (1.0.7)\n",
            "Requirement already satisfied: pillow>=6.2.0 in /usr/local/lib/python3.9/dist-packages (from matplotlib->magic-impute) (8.4.0)\n",
            "Requirement already satisfied: zipp>=3.1.0 in /usr/local/lib/python3.9/dist-packages (from importlib-resources>=3.2.0->matplotlib->magic-impute) (3.15.0)\n",
            "Requirement already satisfied: six>=1.5 in /usr/local/lib/python3.9/dist-packages (from python-dateutil>=2.7.3->pandas>=0.25->magic-impute) (1.16.0)\n",
            "Requirement already satisfied: wrapt<2,>=1.10 in /usr/local/lib/python3.9/dist-packages (from Deprecated->graphtools>=1.4.0->magic-impute) (1.14.1)\n"
          ]
        }
      ],
      "source": [
        "#Install \n",
        "!pip install umap-learn magic-impute shap"
      ]
    },
    {
      "cell_type": "code",
      "execution_count": 322,
      "metadata": {
        "id": "rZiXemXP9O1h"
      },
      "outputs": [],
      "source": [
        "import umap"
      ]
    },
    {
      "cell_type": "code",
      "execution_count": 323,
      "metadata": {
        "id": "GS9DaRS7r4bS"
      },
      "outputs": [],
      "source": [
        "url_genus_table_16S = 'https://raw.githubusercontent.com/wbb121/IBD-data-analysis/main/amplicon_tables/genus_table_rarefaction_100k.csv'\n",
        "\n",
        "url_genus_table_shotgun = 'https://raw.githubusercontent.com/wbb121/IBD-data-analysis/main/shotgun_tables/shotgun_abundance_L6.txt'\n",
        "\n",
        "metadata= 'https://raw.githubusercontent.com/wbb121/IBD-data-analysis/main/metadata.csv'"
      ]
    },
    {
      "cell_type": "code",
      "execution_count": 324,
      "metadata": {
        "colab": {
          "base_uri": "https://localhost:8080/"
        },
        "id": "aY11bYk4wX7l",
        "outputId": "e5e2418e-3046-417e-ed98-cf73b5549b23"
      },
      "outputs": [
        {
          "output_type": "execute_result",
          "data": {
            "text/plain": [
              "['.config',\n",
              " 'metadata.csv',\n",
              " 'mb_PHENIX.py',\n",
              " 'table_shotgun.csv',\n",
              " 'table_16S.csv',\n",
              " '__pycache__',\n",
              " 'sample_data']"
            ]
          },
          "metadata": {},
          "execution_count": 324
        }
      ],
      "source": [
        "urllib.request.urlretrieve(url_genus_table_16S, 'table_16S.csv')\n",
        "urllib.request.urlretrieve(url_genus_table_shotgun, 'table_shotgun.csv')\n",
        "urllib.request.urlretrieve(metadata, 'metadata.csv')\n",
        "os.listdir()\n",
        "#!cd /content"
      ]
    },
    {
      "cell_type": "code",
      "execution_count": 325,
      "metadata": {
        "id": "eCB8Pm9w5pQh"
      },
      "outputs": [],
      "source": [
        "metadata = pd.read_csv('/content/metadata.csv');metadata= metadata.iloc[:,1:]\n",
        "table_16S = pd.read_csv('/content/table_16S.csv').set_index('Unnamed: 0').T\n",
        "table_shotgun = pd.read_csv('/content/table_shotgun.csv',skiprows=1,sep='\\t').T\n",
        "\n",
        "#shared from the same sample based on the metadata among 16S and and shotgun\n",
        "table_16S=table_16S.reset_index()\n",
        "table_16S_ok= table_16S[table_16S['index'].isin(metadata['SampleID'])]\n",
        "table_16S_ok.columns = table_16S_ok.columns.to_series().apply(lambda x: x.split(';')[5] if len(x.split(';')) > 4 else x)\n",
        "table_16S_ok= table_16S_ok.set_index('index')\n",
        "\n",
        "table_shotgun=table_shotgun.reset_index()\n",
        "table_shotgun['index'] = table_shotgun['index'].str.replace('-', '.')\n",
        "table_shotgun_ok= table_shotgun[table_shotgun['index'].isin(metadata['shotgun.SampleID'])]#['shotgun.SampleID'])]\n",
        "table_shotgun_ok.columns = table_shotgun_ok.columns.to_series().apply(lambda x: x.split(';')[-1])\n",
        "table_shotgun_ok = table_shotgun_ok.set_index('index')\n",
        "\n",
        "#keep bouth matrices with the same id\n",
        "table_16S_ok['index']= metadata.set_index('SampleID')['shotgun.SampleID']\n",
        "table_16S_ok=table_16S_ok.set_index('index')"
      ]
    },
    {
      "cell_type": "code",
      "source": [
        "table_shotgun_ok"
      ],
      "metadata": {
        "colab": {
          "base_uri": "https://localhost:8080/",
          "height": 1000
        },
        "id": "nwAziwE3hx3U",
        "outputId": "8e1d23b9-1801-4581-9cd3-4d11ce71ed7f"
      },
      "execution_count": 326,
      "outputs": [
        {
          "output_type": "execute_result",
          "data": {
            "text/plain": [
              "              g__Acidobacterium  g__Candidatus Koribacter  g__Acidimicrobium  \\\n",
              "index                                                                          \n",
              "SM030818.1             0.000002                  0.000000           0.000000   \n",
              "SM030818.24            0.000000                  0.000000           0.000000   \n",
              "SM030818.33            0.000000                  0.000000           0.000000   \n",
              "SM030818.92            0.000000                  0.000000           0.000000   \n",
              "SM030818.97            0.000000                  0.000000           0.000000   \n",
              "SM030818.99            0.000000                  0.000000           0.000000   \n",
              "SM030818.100           0.000000                  0.000000           0.000000   \n",
              "SM030818.101           0.000000                  0.000000           0.000000   \n",
              "SM030818.102           0.000000                  0.000000           0.000000   \n",
              "SM030818.104           0.000000                  0.000000           0.000000   \n",
              "SM030818.105           0.000000                  0.000000           0.000000   \n",
              "SM030818.106           0.000000                  0.000000           0.000000   \n",
              "SM030818.107           0.000000                  0.000000           0.000000   \n",
              "SM030818.110           0.000000                  0.000000           0.000000   \n",
              "SM030818.121           0.000000                  0.000000           0.000000   \n",
              "SM030818.128           0.000000                  0.000000           0.000000   \n",
              "SM030818.130           0.000000                  0.000000           0.000000   \n",
              "SM030818.131           0.000000                  0.000002           0.000000   \n",
              "SM030818.132           0.000000                  0.000000           0.000000   \n",
              "SM030818.133           0.000000                  0.000000           0.000000   \n",
              "SM030818.134           0.000000                  0.000000           0.000000   \n",
              "SM030818.135           0.000000                  0.000000           0.000000   \n",
              "SM030818.136           0.000000                  0.000000           0.000000   \n",
              "SM030818.138           0.000000                  0.000000           0.000000   \n",
              "SM030818.139           0.000000                  0.000000           0.000000   \n",
              "SM030818.140           0.000000                  0.000000           0.000000   \n",
              "SM030818.141           0.000000                  0.000000           0.000000   \n",
              "SM030818.142           0.000000                  0.000000           0.000000   \n",
              "SM030818.143           0.000000                  0.000000           0.000000   \n",
              "SM030818.144           0.000000                  0.000000           0.000000   \n",
              "SM030818.145           0.000000                  0.000000           0.000006   \n",
              "SM030818.146           0.000000                  0.000000           0.000000   \n",
              "SM030818.147           0.000000                  0.000000           0.000000   \n",
              "SM030818.148           0.000000                  0.000000           0.000000   \n",
              "SM111418.12            0.000000                  0.000000           0.000000   \n",
              "SM111418.44            0.000000                  0.000000           0.000000   \n",
              "SM111418.59            0.000000                  0.000000           0.000000   \n",
              "SM111418.113           0.000000                  0.000000           0.000000   \n",
              "SM071219.66            0.000000                  0.000000           0.000000   \n",
              "SM071219.89            0.000000                  0.000000           0.000000   \n",
              "SM071219.92            0.000000                  0.000000           0.000000   \n",
              "SM071219.95            0.000000                  0.000000           0.000000   \n",
              "\n",
              "              g__Actinomyces  g__Actinotignum  g__Mobiluncus   g__Schaalia  \\\n",
              "index                                                                        \n",
              "SM030818.1          0.000036         0.000000   1.190000e-55  0.000000e+00   \n",
              "SM030818.24         0.000097         0.000000   0.000000e+00  0.000000e+00   \n",
              "SM030818.33         0.000000         0.000000   3.179999e-06  0.000000e+00   \n",
              "SM030818.92         0.000029         0.000000   0.000000e+00  0.000000e+00   \n",
              "SM030818.97         0.000135         0.000000   4.850001e-70  0.000000e+00   \n",
              "SM030818.99         0.000000         0.000000  5.940000e-237  0.000000e+00   \n",
              "SM030818.100        0.000243         0.000000   0.000000e+00  2.479999e-19   \n",
              "SM030818.101        0.000073         0.000000   1.120000e-05  1.210000e-05   \n",
              "SM030818.102        0.000119         0.000000   0.000000e+00  4.379999e-26   \n",
              "SM030818.104        0.000000         0.000000   3.819999e-05  0.000000e+00   \n",
              "SM030818.105        0.000001         0.000000   2.050000e-06  0.000000e+00   \n",
              "SM030818.106        0.000006         0.000000   0.000000e+00  0.000000e+00   \n",
              "SM030818.107        0.000000         0.000000   0.000000e+00  0.000000e+00   \n",
              "SM030818.110        0.000123         0.000000   7.540002e-16  0.000000e+00   \n",
              "SM030818.121        0.000032         0.000000   0.000000e+00  0.000000e+00   \n",
              "SM030818.128        0.000000         0.000000   6.240000e-23  0.000000e+00   \n",
              "SM030818.130        0.000039         0.000000   0.000000e+00  0.000000e+00   \n",
              "SM030818.131        0.000047         0.000000   0.000000e+00  0.000000e+00   \n",
              "SM030818.132        0.000034         0.000000   4.510000e-05  0.000000e+00   \n",
              "SM030818.133        0.000046         0.000000   0.000000e+00  5.949998e-06   \n",
              "SM030818.134        0.000017         0.000000   1.820001e-05  0.000000e+00   \n",
              "SM030818.135        0.000018         0.000000   0.000000e+00  0.000000e+00   \n",
              "SM030818.136        0.000046         0.000000   2.150000e-73  0.000000e+00   \n",
              "SM030818.138        0.000140         0.000000   3.630000e-06  3.170000e-05   \n",
              "SM030818.139        0.000029         0.000000   3.330002e-06  1.870001e-06   \n",
              "SM030818.140        0.000009         0.000000   0.000000e+00  0.000000e+00   \n",
              "SM030818.141        0.000147         0.000000   3.220001e-05  2.250001e-05   \n",
              "SM030818.142        0.000749         0.000000   0.000000e+00  1.170001e-05   \n",
              "SM030818.143        0.000386         0.000000  1.427456e-316  0.000000e+00   \n",
              "SM030818.144        0.000159         0.000000   2.409999e-07  2.499999e-06   \n",
              "SM030818.145        0.000120         0.000006  6.399998e-216  0.000000e+00   \n",
              "SM030818.146        0.000079         0.000004   1.890000e-05  0.000000e+00   \n",
              "SM030818.147        0.000062         0.000000   0.000000e+00  0.000000e+00   \n",
              "SM030818.148        0.000348         0.000000   0.000000e+00  2.680000e-91   \n",
              "SM111418.12         0.000050         0.000000   8.730000e-60  0.000000e+00   \n",
              "SM111418.44         0.000008         0.000000   0.000000e+00  3.209999e-06   \n",
              "SM111418.59         0.000048         0.000000   6.529998e-06  0.000000e+00   \n",
              "SM111418.113        0.000029         0.000000   6.779999e-06  0.000000e+00   \n",
              "SM071219.66         0.000390         0.000000   8.269999e-05  2.450000e-23   \n",
              "SM071219.89         0.000024         0.000000   0.000000e+00  0.000000e+00   \n",
              "SM071219.92         0.000000         0.000000   0.000000e+00  0.000000e+00   \n",
              "SM071219.95         0.000009         0.000000   1.340000e-19  0.000000e+00   \n",
              "\n",
              "              g__Trueperella  g__Actinopolyspora  g__Bifidobacterium  ...  \\\n",
              "index                                                                 ...   \n",
              "SM030818.1      0.000000e+00        0.000000e+00            0.133664  ...   \n",
              "SM030818.24     0.000000e+00        0.000000e+00            0.028811  ...   \n",
              "SM030818.33     0.000000e+00        0.000000e+00            0.000460  ...   \n",
              "SM030818.92     0.000000e+00        0.000000e+00            0.062603  ...   \n",
              "SM030818.97     0.000000e+00        0.000000e+00            0.264674  ...   \n",
              "SM030818.99     0.000000e+00        0.000000e+00            0.041166  ...   \n",
              "SM030818.100    0.000000e+00        0.000000e+00            0.000451  ...   \n",
              "SM030818.101    0.000000e+00        0.000000e+00            0.050411  ...   \n",
              "SM030818.102    0.000000e+00        0.000000e+00            0.547730  ...   \n",
              "SM030818.104    0.000000e+00        0.000000e+00            0.163974  ...   \n",
              "SM030818.105    0.000000e+00        0.000000e+00            0.003675  ...   \n",
              "SM030818.106    1.129880e-04        0.000000e+00            0.006426  ...   \n",
              "SM030818.107    0.000000e+00        0.000000e+00            0.496652  ...   \n",
              "SM030818.110    0.000000e+00        0.000000e+00            0.000887  ...   \n",
              "SM030818.121    0.000000e+00        0.000000e+00            0.006144  ...   \n",
              "SM030818.128    0.000000e+00        0.000000e+00            0.008420  ...   \n",
              "SM030818.130    9.340000e-05        0.000000e+00            0.057184  ...   \n",
              "SM030818.131    0.000000e+00        0.000000e+00            0.238345  ...   \n",
              "SM030818.132    0.000000e+00        0.000000e+00            0.007312  ...   \n",
              "SM030818.133    2.129999e-16        0.000000e+00            0.000471  ...   \n",
              "SM030818.134    0.000000e+00        0.000000e+00            0.254224  ...   \n",
              "SM030818.135    1.580000e-05        0.000000e+00            0.314463  ...   \n",
              "SM030818.136    0.000000e+00        0.000000e+00            0.139048  ...   \n",
              "SM030818.138    0.000000e+00        0.000000e+00            0.703203  ...   \n",
              "SM030818.139    4.900002e-06        0.000000e+00            0.905219  ...   \n",
              "SM030818.140    7.190002e-06        0.000000e+00            0.332580  ...   \n",
              "SM030818.141    3.930002e-06        0.000000e+00            0.653072  ...   \n",
              "SM030818.142    1.220001e-05        0.000000e+00            0.007509  ...   \n",
              "SM030818.143    3.340000e-05        0.000000e+00            0.246223  ...   \n",
              "SM030818.144    1.060000e-05        0.000000e+00            0.147219  ...   \n",
              "SM030818.145    0.000000e+00        0.000000e+00            0.209569  ...   \n",
              "SM030818.146   8.060000e-297        0.000000e+00            0.772113  ...   \n",
              "SM030818.147    0.000000e+00        0.000000e+00            0.003068  ...   \n",
              "SM030818.148    0.000000e+00        0.000000e+00            0.380723  ...   \n",
              "SM111418.12     6.890000e-06       1.510000e-138            0.096994  ...   \n",
              "SM111418.44     2.239999e-06        0.000000e+00            0.028415  ...   \n",
              "SM111418.59     0.000000e+00        0.000000e+00            0.243463  ...   \n",
              "SM111418.113    0.000000e+00        0.000000e+00            0.068303  ...   \n",
              "SM071219.66     0.000000e+00        0.000000e+00            0.216815  ...   \n",
              "SM071219.89     1.471000e-04        0.000000e+00            0.084242  ...   \n",
              "SM071219.92     0.000000e+00        0.000000e+00            0.021739  ...   \n",
              "SM071219.95     0.000000e+00        0.000000e+00            0.005830  ...   \n",
              "\n",
              "              g__Acholeplasma  g__Candidatus Phytoplasma  g__Entomoplasma  \\\n",
              "index                                                                       \n",
              "SM030818.1       0.000000e+00                   0.000000         0.000000   \n",
              "SM030818.24      0.000000e+00                   0.000000         0.000000   \n",
              "SM030818.33      0.000000e+00                   0.000000         0.000000   \n",
              "SM030818.92      3.129999e-46                   0.000000         0.000000   \n",
              "SM030818.97      0.000000e+00                   0.000000         0.000000   \n",
              "SM030818.99      0.000000e+00                   0.000000         0.000000   \n",
              "SM030818.100     0.000000e+00                   0.000083         0.000000   \n",
              "SM030818.101     0.000000e+00                   0.000000         0.000000   \n",
              "SM030818.102     0.000000e+00                   0.000000         0.000000   \n",
              "SM030818.104     0.000000e+00                   0.000000         0.000000   \n",
              "SM030818.105     0.000000e+00                   0.000000         0.000000   \n",
              "SM030818.106     0.000000e+00                   0.000000         0.000000   \n",
              "SM030818.107     0.000000e+00                   0.000000         0.000000   \n",
              "SM030818.110     0.000000e+00                   0.000000         0.000000   \n",
              "SM030818.121     0.000000e+00                   0.000000         0.000000   \n",
              "SM030818.128     0.000000e+00                   0.000000         0.000000   \n",
              "SM030818.130     0.000000e+00                   0.000000         0.000000   \n",
              "SM030818.131     0.000000e+00                   0.000000         0.000000   \n",
              "SM030818.132     0.000000e+00                   0.000000         0.000000   \n",
              "SM030818.133     0.000000e+00                   0.000000         0.000000   \n",
              "SM030818.134     0.000000e+00                   0.000000         0.000000   \n",
              "SM030818.135     0.000000e+00                   0.000000         0.000000   \n",
              "SM030818.136     0.000000e+00                   0.000000         0.000000   \n",
              "SM030818.138     0.000000e+00                   0.000000         0.000000   \n",
              "SM030818.139     0.000000e+00                   0.000000         0.000000   \n",
              "SM030818.140     0.000000e+00                   0.000000         0.000016   \n",
              "SM030818.141     5.950002e-06                   0.000000         0.000000   \n",
              "SM030818.142     0.000000e+00                   0.000000         0.000000   \n",
              "SM030818.143     0.000000e+00                   0.000000         0.000000   \n",
              "SM030818.144     3.159999e-06                   0.000000         0.000005   \n",
              "SM030818.145     0.000000e+00                   0.000000         0.000000   \n",
              "SM030818.146     0.000000e+00                   0.000000         0.000000   \n",
              "SM030818.147     0.000000e+00                   0.000000         0.000000   \n",
              "SM030818.148     0.000000e+00                   0.000000         0.000000   \n",
              "SM111418.12      0.000000e+00                   0.000000         0.000000   \n",
              "SM111418.44      2.699999e-06                   0.000000         0.000000   \n",
              "SM111418.59      0.000000e+00                   0.000000         0.000013   \n",
              "SM111418.113     0.000000e+00                   0.000000         0.000000   \n",
              "SM071219.66      0.000000e+00                   0.000000         0.000000   \n",
              "SM071219.89      0.000000e+00                   0.000000         0.000024   \n",
              "SM071219.92      0.000000e+00                   0.000000         0.000000   \n",
              "SM071219.95      0.000000e+00                   0.000000         0.000000   \n",
              "\n",
              "              g__Mesoplasma  g__Spiroplasma  g__Mycoplasma  g__Thermotoga  \\\n",
              "index                                                                       \n",
              "SM030818.1     0.000000e+00    0.000000e+00   0.000000e+00       0.000000   \n",
              "SM030818.24    0.000000e+00    0.000000e+00   0.000000e+00       0.000000   \n",
              "SM030818.33    7.309998e-06    0.000000e+00   3.879999e-28       0.000000   \n",
              "SM030818.92    0.000000e+00    0.000000e+00   4.619999e-05       0.000000   \n",
              "SM030818.97    0.000000e+00    0.000000e+00  2.420000e-154       0.000000   \n",
              "SM030818.99    0.000000e+00    0.000000e+00   0.000000e+00       0.000000   \n",
              "SM030818.100   5.469999e-05    1.340000e-54   0.000000e+00       0.000000   \n",
              "SM030818.101   0.000000e+00    0.000000e+00   6.619999e-62       0.000000   \n",
              "SM030818.102   0.000000e+00    0.000000e+00   0.000000e+00       0.000000   \n",
              "SM030818.104   0.000000e+00    0.000000e+00   0.000000e+00       0.000000   \n",
              "SM030818.105   0.000000e+00    0.000000e+00   5.370001e-06       0.000000   \n",
              "SM030818.106   0.000000e+00    0.000000e+00   0.000000e+00       0.000000   \n",
              "SM030818.107   0.000000e+00    0.000000e+00   0.000000e+00       0.000000   \n",
              "SM030818.110   0.000000e+00    0.000000e+00   0.000000e+00       0.000000   \n",
              "SM030818.121   0.000000e+00    0.000000e+00   0.000000e+00       0.000000   \n",
              "SM030818.128   0.000000e+00    0.000000e+00   0.000000e+00       0.000000   \n",
              "SM030818.130   0.000000e+00    0.000000e+00   0.000000e+00       0.000000   \n",
              "SM030818.131   1.290000e-05    0.000000e+00   0.000000e+00       0.000000   \n",
              "SM030818.132   0.000000e+00    0.000000e+00   0.000000e+00       0.000000   \n",
              "SM030818.133   1.120000e-05    0.000000e+00   0.000000e+00       0.000000   \n",
              "SM030818.134   0.000000e+00    0.000000e+00   0.000000e+00       0.000000   \n",
              "SM030818.135   6.619998e-06    8.349998e-06   0.000000e+00       0.000000   \n",
              "SM030818.136   9.220001e-06    0.000000e+00   0.000000e+00       0.000000   \n",
              "SM030818.138   2.920000e-19    1.420000e-05   0.000000e+00       0.000000   \n",
              "SM030818.139   2.100001e-06    2.920001e-06   0.000000e+00       0.000000   \n",
              "SM030818.140   0.000000e+00    0.000000e+00   0.000000e+00       0.000000   \n",
              "SM030818.141   0.000000e+00    3.530001e-06   0.000000e+00       0.000000   \n",
              "SM030818.142   0.000000e+00    0.000000e+00   0.000000e+00       0.000000   \n",
              "SM030818.143   0.000000e+00    0.000000e+00   0.000000e+00       0.000000   \n",
              "SM030818.144   0.000000e+00    0.000000e+00   0.000000e+00       0.000000   \n",
              "SM030818.145   7.359998e-06    4.309999e-55   0.000000e+00       0.000000   \n",
              "SM030818.146   0.000000e+00    0.000000e+00   0.000000e+00       0.000000   \n",
              "SM030818.147   0.000000e+00    0.000000e+00   0.000000e+00       0.000000   \n",
              "SM030818.148   0.000000e+00    0.000000e+00   0.000000e+00       0.000000   \n",
              "SM111418.12    0.000000e+00    0.000000e+00   0.000000e+00       0.000000   \n",
              "SM111418.44    3.029999e-06    0.000000e+00   0.000000e+00       0.000000   \n",
              "SM111418.59    1.500000e-05    0.000000e+00   1.979999e-05       0.000000   \n",
              "SM111418.113   0.000000e+00    0.000000e+00   0.000000e+00       0.000000   \n",
              "SM071219.66    0.000000e+00    0.000000e+00   1.272640e-04       0.000000   \n",
              "SM071219.89    0.000000e+00    0.000000e+00   0.000000e+00       0.000014   \n",
              "SM071219.92    0.000000e+00    0.000000e+00   0.000000e+00       0.000000   \n",
              "SM071219.95    0.000000e+00    0.000000e+00   0.000000e+00       0.000000   \n",
              "\n",
              "                 g__NA   g__Opitutus  g__Akkermansia  \n",
              "index                                                 \n",
              "SM030818.1    0.000000  0.000000e+00        0.000000  \n",
              "SM030818.24   0.000000  0.000000e+00        0.000000  \n",
              "SM030818.33   0.000000  0.000000e+00        0.001678  \n",
              "SM030818.92   0.000000  0.000000e+00        0.000000  \n",
              "SM030818.97   0.000000  0.000000e+00        0.000000  \n",
              "SM030818.99   0.000000  0.000000e+00        0.000000  \n",
              "SM030818.100  0.000000  0.000000e+00        0.000000  \n",
              "SM030818.101  0.000000  0.000000e+00        0.000000  \n",
              "SM030818.102  0.000000  0.000000e+00        0.000000  \n",
              "SM030818.104  0.000000  0.000000e+00        0.011631  \n",
              "SM030818.105  0.000000  0.000000e+00        0.000000  \n",
              "SM030818.106  0.000000  0.000000e+00        0.000000  \n",
              "SM030818.107  0.000000  0.000000e+00        0.000000  \n",
              "SM030818.110  0.000000  0.000000e+00        0.000000  \n",
              "SM030818.121  0.000000  0.000000e+00        0.000000  \n",
              "SM030818.128  0.000000  0.000000e+00        0.000000  \n",
              "SM030818.130  0.000000  0.000000e+00        0.087922  \n",
              "SM030818.131  0.000000  0.000000e+00        0.094805  \n",
              "SM030818.132  0.000000  0.000000e+00        0.003717  \n",
              "SM030818.133  0.000000  0.000000e+00        0.000000  \n",
              "SM030818.134  0.000000  0.000000e+00        0.000094  \n",
              "SM030818.135  0.000000  0.000000e+00        0.000004  \n",
              "SM030818.136  0.000000  0.000000e+00        0.000110  \n",
              "SM030818.138  0.000000  0.000000e+00        0.054750  \n",
              "SM030818.139  0.000000  0.000000e+00        0.000128  \n",
              "SM030818.140  0.000000  0.000000e+00        0.119926  \n",
              "SM030818.141  0.000000  0.000000e+00        0.016877  \n",
              "SM030818.142  0.000000  0.000000e+00        0.002574  \n",
              "SM030818.143  0.000000  0.000000e+00        0.010272  \n",
              "SM030818.144  0.000000  0.000000e+00        0.000000  \n",
              "SM030818.145  0.000000  0.000000e+00        0.534719  \n",
              "SM030818.146  0.000000  0.000000e+00        0.000482  \n",
              "SM030818.147  0.000000  0.000000e+00        0.159288  \n",
              "SM030818.148  0.000000  0.000000e+00        0.001379  \n",
              "SM111418.12   0.000000  0.000000e+00        0.000000  \n",
              "SM111418.44   0.000001  8.519997e-07        0.053501  \n",
              "SM111418.59   0.000000  0.000000e+00        0.000000  \n",
              "SM111418.113  0.000000  0.000000e+00        0.002441  \n",
              "SM071219.66   0.000000  0.000000e+00        0.000000  \n",
              "SM071219.89   0.000000  0.000000e+00        0.028055  \n",
              "SM071219.92   0.000000  0.000000e+00        0.000004  \n",
              "SM071219.95   0.000000  0.000000e+00        0.001284  \n",
              "\n",
              "[42 rows x 483 columns]"
            ],
            "text/html": [
              "\n",
              "  <div id=\"df-70ce4aef-ac45-4d71-b00b-fabd458acc36\">\n",
              "    <div class=\"colab-df-container\">\n",
              "      <div>\n",
              "<style scoped>\n",
              "    .dataframe tbody tr th:only-of-type {\n",
              "        vertical-align: middle;\n",
              "    }\n",
              "\n",
              "    .dataframe tbody tr th {\n",
              "        vertical-align: top;\n",
              "    }\n",
              "\n",
              "    .dataframe thead th {\n",
              "        text-align: right;\n",
              "    }\n",
              "</style>\n",
              "<table border=\"1\" class=\"dataframe\">\n",
              "  <thead>\n",
              "    <tr style=\"text-align: right;\">\n",
              "      <th></th>\n",
              "      <th>g__Acidobacterium</th>\n",
              "      <th>g__Candidatus Koribacter</th>\n",
              "      <th>g__Acidimicrobium</th>\n",
              "      <th>g__Actinomyces</th>\n",
              "      <th>g__Actinotignum</th>\n",
              "      <th>g__Mobiluncus</th>\n",
              "      <th>g__Schaalia</th>\n",
              "      <th>g__Trueperella</th>\n",
              "      <th>g__Actinopolyspora</th>\n",
              "      <th>g__Bifidobacterium</th>\n",
              "      <th>...</th>\n",
              "      <th>g__Acholeplasma</th>\n",
              "      <th>g__Candidatus Phytoplasma</th>\n",
              "      <th>g__Entomoplasma</th>\n",
              "      <th>g__Mesoplasma</th>\n",
              "      <th>g__Spiroplasma</th>\n",
              "      <th>g__Mycoplasma</th>\n",
              "      <th>g__Thermotoga</th>\n",
              "      <th>g__NA</th>\n",
              "      <th>g__Opitutus</th>\n",
              "      <th>g__Akkermansia</th>\n",
              "    </tr>\n",
              "    <tr>\n",
              "      <th>index</th>\n",
              "      <th></th>\n",
              "      <th></th>\n",
              "      <th></th>\n",
              "      <th></th>\n",
              "      <th></th>\n",
              "      <th></th>\n",
              "      <th></th>\n",
              "      <th></th>\n",
              "      <th></th>\n",
              "      <th></th>\n",
              "      <th></th>\n",
              "      <th></th>\n",
              "      <th></th>\n",
              "      <th></th>\n",
              "      <th></th>\n",
              "      <th></th>\n",
              "      <th></th>\n",
              "      <th></th>\n",
              "      <th></th>\n",
              "      <th></th>\n",
              "      <th></th>\n",
              "    </tr>\n",
              "  </thead>\n",
              "  <tbody>\n",
              "    <tr>\n",
              "      <th>SM030818.1</th>\n",
              "      <td>0.000002</td>\n",
              "      <td>0.000000</td>\n",
              "      <td>0.000000</td>\n",
              "      <td>0.000036</td>\n",
              "      <td>0.000000</td>\n",
              "      <td>1.190000e-55</td>\n",
              "      <td>0.000000e+00</td>\n",
              "      <td>0.000000e+00</td>\n",
              "      <td>0.000000e+00</td>\n",
              "      <td>0.133664</td>\n",
              "      <td>...</td>\n",
              "      <td>0.000000e+00</td>\n",
              "      <td>0.000000</td>\n",
              "      <td>0.000000</td>\n",
              "      <td>0.000000e+00</td>\n",
              "      <td>0.000000e+00</td>\n",
              "      <td>0.000000e+00</td>\n",
              "      <td>0.000000</td>\n",
              "      <td>0.000000</td>\n",
              "      <td>0.000000e+00</td>\n",
              "      <td>0.000000</td>\n",
              "    </tr>\n",
              "    <tr>\n",
              "      <th>SM030818.24</th>\n",
              "      <td>0.000000</td>\n",
              "      <td>0.000000</td>\n",
              "      <td>0.000000</td>\n",
              "      <td>0.000097</td>\n",
              "      <td>0.000000</td>\n",
              "      <td>0.000000e+00</td>\n",
              "      <td>0.000000e+00</td>\n",
              "      <td>0.000000e+00</td>\n",
              "      <td>0.000000e+00</td>\n",
              "      <td>0.028811</td>\n",
              "      <td>...</td>\n",
              "      <td>0.000000e+00</td>\n",
              "      <td>0.000000</td>\n",
              "      <td>0.000000</td>\n",
              "      <td>0.000000e+00</td>\n",
              "      <td>0.000000e+00</td>\n",
              "      <td>0.000000e+00</td>\n",
              "      <td>0.000000</td>\n",
              "      <td>0.000000</td>\n",
              "      <td>0.000000e+00</td>\n",
              "      <td>0.000000</td>\n",
              "    </tr>\n",
              "    <tr>\n",
              "      <th>SM030818.33</th>\n",
              "      <td>0.000000</td>\n",
              "      <td>0.000000</td>\n",
              "      <td>0.000000</td>\n",
              "      <td>0.000000</td>\n",
              "      <td>0.000000</td>\n",
              "      <td>3.179999e-06</td>\n",
              "      <td>0.000000e+00</td>\n",
              "      <td>0.000000e+00</td>\n",
              "      <td>0.000000e+00</td>\n",
              "      <td>0.000460</td>\n",
              "      <td>...</td>\n",
              "      <td>0.000000e+00</td>\n",
              "      <td>0.000000</td>\n",
              "      <td>0.000000</td>\n",
              "      <td>7.309998e-06</td>\n",
              "      <td>0.000000e+00</td>\n",
              "      <td>3.879999e-28</td>\n",
              "      <td>0.000000</td>\n",
              "      <td>0.000000</td>\n",
              "      <td>0.000000e+00</td>\n",
              "      <td>0.001678</td>\n",
              "    </tr>\n",
              "    <tr>\n",
              "      <th>SM030818.92</th>\n",
              "      <td>0.000000</td>\n",
              "      <td>0.000000</td>\n",
              "      <td>0.000000</td>\n",
              "      <td>0.000029</td>\n",
              "      <td>0.000000</td>\n",
              "      <td>0.000000e+00</td>\n",
              "      <td>0.000000e+00</td>\n",
              "      <td>0.000000e+00</td>\n",
              "      <td>0.000000e+00</td>\n",
              "      <td>0.062603</td>\n",
              "      <td>...</td>\n",
              "      <td>3.129999e-46</td>\n",
              "      <td>0.000000</td>\n",
              "      <td>0.000000</td>\n",
              "      <td>0.000000e+00</td>\n",
              "      <td>0.000000e+00</td>\n",
              "      <td>4.619999e-05</td>\n",
              "      <td>0.000000</td>\n",
              "      <td>0.000000</td>\n",
              "      <td>0.000000e+00</td>\n",
              "      <td>0.000000</td>\n",
              "    </tr>\n",
              "    <tr>\n",
              "      <th>SM030818.97</th>\n",
              "      <td>0.000000</td>\n",
              "      <td>0.000000</td>\n",
              "      <td>0.000000</td>\n",
              "      <td>0.000135</td>\n",
              "      <td>0.000000</td>\n",
              "      <td>4.850001e-70</td>\n",
              "      <td>0.000000e+00</td>\n",
              "      <td>0.000000e+00</td>\n",
              "      <td>0.000000e+00</td>\n",
              "      <td>0.264674</td>\n",
              "      <td>...</td>\n",
              "      <td>0.000000e+00</td>\n",
              "      <td>0.000000</td>\n",
              "      <td>0.000000</td>\n",
              "      <td>0.000000e+00</td>\n",
              "      <td>0.000000e+00</td>\n",
              "      <td>2.420000e-154</td>\n",
              "      <td>0.000000</td>\n",
              "      <td>0.000000</td>\n",
              "      <td>0.000000e+00</td>\n",
              "      <td>0.000000</td>\n",
              "    </tr>\n",
              "    <tr>\n",
              "      <th>SM030818.99</th>\n",
              "      <td>0.000000</td>\n",
              "      <td>0.000000</td>\n",
              "      <td>0.000000</td>\n",
              "      <td>0.000000</td>\n",
              "      <td>0.000000</td>\n",
              "      <td>5.940000e-237</td>\n",
              "      <td>0.000000e+00</td>\n",
              "      <td>0.000000e+00</td>\n",
              "      <td>0.000000e+00</td>\n",
              "      <td>0.041166</td>\n",
              "      <td>...</td>\n",
              "      <td>0.000000e+00</td>\n",
              "      <td>0.000000</td>\n",
              "      <td>0.000000</td>\n",
              "      <td>0.000000e+00</td>\n",
              "      <td>0.000000e+00</td>\n",
              "      <td>0.000000e+00</td>\n",
              "      <td>0.000000</td>\n",
              "      <td>0.000000</td>\n",
              "      <td>0.000000e+00</td>\n",
              "      <td>0.000000</td>\n",
              "    </tr>\n",
              "    <tr>\n",
              "      <th>SM030818.100</th>\n",
              "      <td>0.000000</td>\n",
              "      <td>0.000000</td>\n",
              "      <td>0.000000</td>\n",
              "      <td>0.000243</td>\n",
              "      <td>0.000000</td>\n",
              "      <td>0.000000e+00</td>\n",
              "      <td>2.479999e-19</td>\n",
              "      <td>0.000000e+00</td>\n",
              "      <td>0.000000e+00</td>\n",
              "      <td>0.000451</td>\n",
              "      <td>...</td>\n",
              "      <td>0.000000e+00</td>\n",
              "      <td>0.000083</td>\n",
              "      <td>0.000000</td>\n",
              "      <td>5.469999e-05</td>\n",
              "      <td>1.340000e-54</td>\n",
              "      <td>0.000000e+00</td>\n",
              "      <td>0.000000</td>\n",
              "      <td>0.000000</td>\n",
              "      <td>0.000000e+00</td>\n",
              "      <td>0.000000</td>\n",
              "    </tr>\n",
              "    <tr>\n",
              "      <th>SM030818.101</th>\n",
              "      <td>0.000000</td>\n",
              "      <td>0.000000</td>\n",
              "      <td>0.000000</td>\n",
              "      <td>0.000073</td>\n",
              "      <td>0.000000</td>\n",
              "      <td>1.120000e-05</td>\n",
              "      <td>1.210000e-05</td>\n",
              "      <td>0.000000e+00</td>\n",
              "      <td>0.000000e+00</td>\n",
              "      <td>0.050411</td>\n",
              "      <td>...</td>\n",
              "      <td>0.000000e+00</td>\n",
              "      <td>0.000000</td>\n",
              "      <td>0.000000</td>\n",
              "      <td>0.000000e+00</td>\n",
              "      <td>0.000000e+00</td>\n",
              "      <td>6.619999e-62</td>\n",
              "      <td>0.000000</td>\n",
              "      <td>0.000000</td>\n",
              "      <td>0.000000e+00</td>\n",
              "      <td>0.000000</td>\n",
              "    </tr>\n",
              "    <tr>\n",
              "      <th>SM030818.102</th>\n",
              "      <td>0.000000</td>\n",
              "      <td>0.000000</td>\n",
              "      <td>0.000000</td>\n",
              "      <td>0.000119</td>\n",
              "      <td>0.000000</td>\n",
              "      <td>0.000000e+00</td>\n",
              "      <td>4.379999e-26</td>\n",
              "      <td>0.000000e+00</td>\n",
              "      <td>0.000000e+00</td>\n",
              "      <td>0.547730</td>\n",
              "      <td>...</td>\n",
              "      <td>0.000000e+00</td>\n",
              "      <td>0.000000</td>\n",
              "      <td>0.000000</td>\n",
              "      <td>0.000000e+00</td>\n",
              "      <td>0.000000e+00</td>\n",
              "      <td>0.000000e+00</td>\n",
              "      <td>0.000000</td>\n",
              "      <td>0.000000</td>\n",
              "      <td>0.000000e+00</td>\n",
              "      <td>0.000000</td>\n",
              "    </tr>\n",
              "    <tr>\n",
              "      <th>SM030818.104</th>\n",
              "      <td>0.000000</td>\n",
              "      <td>0.000000</td>\n",
              "      <td>0.000000</td>\n",
              "      <td>0.000000</td>\n",
              "      <td>0.000000</td>\n",
              "      <td>3.819999e-05</td>\n",
              "      <td>0.000000e+00</td>\n",
              "      <td>0.000000e+00</td>\n",
              "      <td>0.000000e+00</td>\n",
              "      <td>0.163974</td>\n",
              "      <td>...</td>\n",
              "      <td>0.000000e+00</td>\n",
              "      <td>0.000000</td>\n",
              "      <td>0.000000</td>\n",
              "      <td>0.000000e+00</td>\n",
              "      <td>0.000000e+00</td>\n",
              "      <td>0.000000e+00</td>\n",
              "      <td>0.000000</td>\n",
              "      <td>0.000000</td>\n",
              "      <td>0.000000e+00</td>\n",
              "      <td>0.011631</td>\n",
              "    </tr>\n",
              "    <tr>\n",
              "      <th>SM030818.105</th>\n",
              "      <td>0.000000</td>\n",
              "      <td>0.000000</td>\n",
              "      <td>0.000000</td>\n",
              "      <td>0.000001</td>\n",
              "      <td>0.000000</td>\n",
              "      <td>2.050000e-06</td>\n",
              "      <td>0.000000e+00</td>\n",
              "      <td>0.000000e+00</td>\n",
              "      <td>0.000000e+00</td>\n",
              "      <td>0.003675</td>\n",
              "      <td>...</td>\n",
              "      <td>0.000000e+00</td>\n",
              "      <td>0.000000</td>\n",
              "      <td>0.000000</td>\n",
              "      <td>0.000000e+00</td>\n",
              "      <td>0.000000e+00</td>\n",
              "      <td>5.370001e-06</td>\n",
              "      <td>0.000000</td>\n",
              "      <td>0.000000</td>\n",
              "      <td>0.000000e+00</td>\n",
              "      <td>0.000000</td>\n",
              "    </tr>\n",
              "    <tr>\n",
              "      <th>SM030818.106</th>\n",
              "      <td>0.000000</td>\n",
              "      <td>0.000000</td>\n",
              "      <td>0.000000</td>\n",
              "      <td>0.000006</td>\n",
              "      <td>0.000000</td>\n",
              "      <td>0.000000e+00</td>\n",
              "      <td>0.000000e+00</td>\n",
              "      <td>1.129880e-04</td>\n",
              "      <td>0.000000e+00</td>\n",
              "      <td>0.006426</td>\n",
              "      <td>...</td>\n",
              "      <td>0.000000e+00</td>\n",
              "      <td>0.000000</td>\n",
              "      <td>0.000000</td>\n",
              "      <td>0.000000e+00</td>\n",
              "      <td>0.000000e+00</td>\n",
              "      <td>0.000000e+00</td>\n",
              "      <td>0.000000</td>\n",
              "      <td>0.000000</td>\n",
              "      <td>0.000000e+00</td>\n",
              "      <td>0.000000</td>\n",
              "    </tr>\n",
              "    <tr>\n",
              "      <th>SM030818.107</th>\n",
              "      <td>0.000000</td>\n",
              "      <td>0.000000</td>\n",
              "      <td>0.000000</td>\n",
              "      <td>0.000000</td>\n",
              "      <td>0.000000</td>\n",
              "      <td>0.000000e+00</td>\n",
              "      <td>0.000000e+00</td>\n",
              "      <td>0.000000e+00</td>\n",
              "      <td>0.000000e+00</td>\n",
              "      <td>0.496652</td>\n",
              "      <td>...</td>\n",
              "      <td>0.000000e+00</td>\n",
              "      <td>0.000000</td>\n",
              "      <td>0.000000</td>\n",
              "      <td>0.000000e+00</td>\n",
              "      <td>0.000000e+00</td>\n",
              "      <td>0.000000e+00</td>\n",
              "      <td>0.000000</td>\n",
              "      <td>0.000000</td>\n",
              "      <td>0.000000e+00</td>\n",
              "      <td>0.000000</td>\n",
              "    </tr>\n",
              "    <tr>\n",
              "      <th>SM030818.110</th>\n",
              "      <td>0.000000</td>\n",
              "      <td>0.000000</td>\n",
              "      <td>0.000000</td>\n",
              "      <td>0.000123</td>\n",
              "      <td>0.000000</td>\n",
              "      <td>7.540002e-16</td>\n",
              "      <td>0.000000e+00</td>\n",
              "      <td>0.000000e+00</td>\n",
              "      <td>0.000000e+00</td>\n",
              "      <td>0.000887</td>\n",
              "      <td>...</td>\n",
              "      <td>0.000000e+00</td>\n",
              "      <td>0.000000</td>\n",
              "      <td>0.000000</td>\n",
              "      <td>0.000000e+00</td>\n",
              "      <td>0.000000e+00</td>\n",
              "      <td>0.000000e+00</td>\n",
              "      <td>0.000000</td>\n",
              "      <td>0.000000</td>\n",
              "      <td>0.000000e+00</td>\n",
              "      <td>0.000000</td>\n",
              "    </tr>\n",
              "    <tr>\n",
              "      <th>SM030818.121</th>\n",
              "      <td>0.000000</td>\n",
              "      <td>0.000000</td>\n",
              "      <td>0.000000</td>\n",
              "      <td>0.000032</td>\n",
              "      <td>0.000000</td>\n",
              "      <td>0.000000e+00</td>\n",
              "      <td>0.000000e+00</td>\n",
              "      <td>0.000000e+00</td>\n",
              "      <td>0.000000e+00</td>\n",
              "      <td>0.006144</td>\n",
              "      <td>...</td>\n",
              "      <td>0.000000e+00</td>\n",
              "      <td>0.000000</td>\n",
              "      <td>0.000000</td>\n",
              "      <td>0.000000e+00</td>\n",
              "      <td>0.000000e+00</td>\n",
              "      <td>0.000000e+00</td>\n",
              "      <td>0.000000</td>\n",
              "      <td>0.000000</td>\n",
              "      <td>0.000000e+00</td>\n",
              "      <td>0.000000</td>\n",
              "    </tr>\n",
              "    <tr>\n",
              "      <th>SM030818.128</th>\n",
              "      <td>0.000000</td>\n",
              "      <td>0.000000</td>\n",
              "      <td>0.000000</td>\n",
              "      <td>0.000000</td>\n",
              "      <td>0.000000</td>\n",
              "      <td>6.240000e-23</td>\n",
              "      <td>0.000000e+00</td>\n",
              "      <td>0.000000e+00</td>\n",
              "      <td>0.000000e+00</td>\n",
              "      <td>0.008420</td>\n",
              "      <td>...</td>\n",
              "      <td>0.000000e+00</td>\n",
              "      <td>0.000000</td>\n",
              "      <td>0.000000</td>\n",
              "      <td>0.000000e+00</td>\n",
              "      <td>0.000000e+00</td>\n",
              "      <td>0.000000e+00</td>\n",
              "      <td>0.000000</td>\n",
              "      <td>0.000000</td>\n",
              "      <td>0.000000e+00</td>\n",
              "      <td>0.000000</td>\n",
              "    </tr>\n",
              "    <tr>\n",
              "      <th>SM030818.130</th>\n",
              "      <td>0.000000</td>\n",
              "      <td>0.000000</td>\n",
              "      <td>0.000000</td>\n",
              "      <td>0.000039</td>\n",
              "      <td>0.000000</td>\n",
              "      <td>0.000000e+00</td>\n",
              "      <td>0.000000e+00</td>\n",
              "      <td>9.340000e-05</td>\n",
              "      <td>0.000000e+00</td>\n",
              "      <td>0.057184</td>\n",
              "      <td>...</td>\n",
              "      <td>0.000000e+00</td>\n",
              "      <td>0.000000</td>\n",
              "      <td>0.000000</td>\n",
              "      <td>0.000000e+00</td>\n",
              "      <td>0.000000e+00</td>\n",
              "      <td>0.000000e+00</td>\n",
              "      <td>0.000000</td>\n",
              "      <td>0.000000</td>\n",
              "      <td>0.000000e+00</td>\n",
              "      <td>0.087922</td>\n",
              "    </tr>\n",
              "    <tr>\n",
              "      <th>SM030818.131</th>\n",
              "      <td>0.000000</td>\n",
              "      <td>0.000002</td>\n",
              "      <td>0.000000</td>\n",
              "      <td>0.000047</td>\n",
              "      <td>0.000000</td>\n",
              "      <td>0.000000e+00</td>\n",
              "      <td>0.000000e+00</td>\n",
              "      <td>0.000000e+00</td>\n",
              "      <td>0.000000e+00</td>\n",
              "      <td>0.238345</td>\n",
              "      <td>...</td>\n",
              "      <td>0.000000e+00</td>\n",
              "      <td>0.000000</td>\n",
              "      <td>0.000000</td>\n",
              "      <td>1.290000e-05</td>\n",
              "      <td>0.000000e+00</td>\n",
              "      <td>0.000000e+00</td>\n",
              "      <td>0.000000</td>\n",
              "      <td>0.000000</td>\n",
              "      <td>0.000000e+00</td>\n",
              "      <td>0.094805</td>\n",
              "    </tr>\n",
              "    <tr>\n",
              "      <th>SM030818.132</th>\n",
              "      <td>0.000000</td>\n",
              "      <td>0.000000</td>\n",
              "      <td>0.000000</td>\n",
              "      <td>0.000034</td>\n",
              "      <td>0.000000</td>\n",
              "      <td>4.510000e-05</td>\n",
              "      <td>0.000000e+00</td>\n",
              "      <td>0.000000e+00</td>\n",
              "      <td>0.000000e+00</td>\n",
              "      <td>0.007312</td>\n",
              "      <td>...</td>\n",
              "      <td>0.000000e+00</td>\n",
              "      <td>0.000000</td>\n",
              "      <td>0.000000</td>\n",
              "      <td>0.000000e+00</td>\n",
              "      <td>0.000000e+00</td>\n",
              "      <td>0.000000e+00</td>\n",
              "      <td>0.000000</td>\n",
              "      <td>0.000000</td>\n",
              "      <td>0.000000e+00</td>\n",
              "      <td>0.003717</td>\n",
              "    </tr>\n",
              "    <tr>\n",
              "      <th>SM030818.133</th>\n",
              "      <td>0.000000</td>\n",
              "      <td>0.000000</td>\n",
              "      <td>0.000000</td>\n",
              "      <td>0.000046</td>\n",
              "      <td>0.000000</td>\n",
              "      <td>0.000000e+00</td>\n",
              "      <td>5.949998e-06</td>\n",
              "      <td>2.129999e-16</td>\n",
              "      <td>0.000000e+00</td>\n",
              "      <td>0.000471</td>\n",
              "      <td>...</td>\n",
              "      <td>0.000000e+00</td>\n",
              "      <td>0.000000</td>\n",
              "      <td>0.000000</td>\n",
              "      <td>1.120000e-05</td>\n",
              "      <td>0.000000e+00</td>\n",
              "      <td>0.000000e+00</td>\n",
              "      <td>0.000000</td>\n",
              "      <td>0.000000</td>\n",
              "      <td>0.000000e+00</td>\n",
              "      <td>0.000000</td>\n",
              "    </tr>\n",
              "    <tr>\n",
              "      <th>SM030818.134</th>\n",
              "      <td>0.000000</td>\n",
              "      <td>0.000000</td>\n",
              "      <td>0.000000</td>\n",
              "      <td>0.000017</td>\n",
              "      <td>0.000000</td>\n",
              "      <td>1.820001e-05</td>\n",
              "      <td>0.000000e+00</td>\n",
              "      <td>0.000000e+00</td>\n",
              "      <td>0.000000e+00</td>\n",
              "      <td>0.254224</td>\n",
              "      <td>...</td>\n",
              "      <td>0.000000e+00</td>\n",
              "      <td>0.000000</td>\n",
              "      <td>0.000000</td>\n",
              "      <td>0.000000e+00</td>\n",
              "      <td>0.000000e+00</td>\n",
              "      <td>0.000000e+00</td>\n",
              "      <td>0.000000</td>\n",
              "      <td>0.000000</td>\n",
              "      <td>0.000000e+00</td>\n",
              "      <td>0.000094</td>\n",
              "    </tr>\n",
              "    <tr>\n",
              "      <th>SM030818.135</th>\n",
              "      <td>0.000000</td>\n",
              "      <td>0.000000</td>\n",
              "      <td>0.000000</td>\n",
              "      <td>0.000018</td>\n",
              "      <td>0.000000</td>\n",
              "      <td>0.000000e+00</td>\n",
              "      <td>0.000000e+00</td>\n",
              "      <td>1.580000e-05</td>\n",
              "      <td>0.000000e+00</td>\n",
              "      <td>0.314463</td>\n",
              "      <td>...</td>\n",
              "      <td>0.000000e+00</td>\n",
              "      <td>0.000000</td>\n",
              "      <td>0.000000</td>\n",
              "      <td>6.619998e-06</td>\n",
              "      <td>8.349998e-06</td>\n",
              "      <td>0.000000e+00</td>\n",
              "      <td>0.000000</td>\n",
              "      <td>0.000000</td>\n",
              "      <td>0.000000e+00</td>\n",
              "      <td>0.000004</td>\n",
              "    </tr>\n",
              "    <tr>\n",
              "      <th>SM030818.136</th>\n",
              "      <td>0.000000</td>\n",
              "      <td>0.000000</td>\n",
              "      <td>0.000000</td>\n",
              "      <td>0.000046</td>\n",
              "      <td>0.000000</td>\n",
              "      <td>2.150000e-73</td>\n",
              "      <td>0.000000e+00</td>\n",
              "      <td>0.000000e+00</td>\n",
              "      <td>0.000000e+00</td>\n",
              "      <td>0.139048</td>\n",
              "      <td>...</td>\n",
              "      <td>0.000000e+00</td>\n",
              "      <td>0.000000</td>\n",
              "      <td>0.000000</td>\n",
              "      <td>9.220001e-06</td>\n",
              "      <td>0.000000e+00</td>\n",
              "      <td>0.000000e+00</td>\n",
              "      <td>0.000000</td>\n",
              "      <td>0.000000</td>\n",
              "      <td>0.000000e+00</td>\n",
              "      <td>0.000110</td>\n",
              "    </tr>\n",
              "    <tr>\n",
              "      <th>SM030818.138</th>\n",
              "      <td>0.000000</td>\n",
              "      <td>0.000000</td>\n",
              "      <td>0.000000</td>\n",
              "      <td>0.000140</td>\n",
              "      <td>0.000000</td>\n",
              "      <td>3.630000e-06</td>\n",
              "      <td>3.170000e-05</td>\n",
              "      <td>0.000000e+00</td>\n",
              "      <td>0.000000e+00</td>\n",
              "      <td>0.703203</td>\n",
              "      <td>...</td>\n",
              "      <td>0.000000e+00</td>\n",
              "      <td>0.000000</td>\n",
              "      <td>0.000000</td>\n",
              "      <td>2.920000e-19</td>\n",
              "      <td>1.420000e-05</td>\n",
              "      <td>0.000000e+00</td>\n",
              "      <td>0.000000</td>\n",
              "      <td>0.000000</td>\n",
              "      <td>0.000000e+00</td>\n",
              "      <td>0.054750</td>\n",
              "    </tr>\n",
              "    <tr>\n",
              "      <th>SM030818.139</th>\n",
              "      <td>0.000000</td>\n",
              "      <td>0.000000</td>\n",
              "      <td>0.000000</td>\n",
              "      <td>0.000029</td>\n",
              "      <td>0.000000</td>\n",
              "      <td>3.330002e-06</td>\n",
              "      <td>1.870001e-06</td>\n",
              "      <td>4.900002e-06</td>\n",
              "      <td>0.000000e+00</td>\n",
              "      <td>0.905219</td>\n",
              "      <td>...</td>\n",
              "      <td>0.000000e+00</td>\n",
              "      <td>0.000000</td>\n",
              "      <td>0.000000</td>\n",
              "      <td>2.100001e-06</td>\n",
              "      <td>2.920001e-06</td>\n",
              "      <td>0.000000e+00</td>\n",
              "      <td>0.000000</td>\n",
              "      <td>0.000000</td>\n",
              "      <td>0.000000e+00</td>\n",
              "      <td>0.000128</td>\n",
              "    </tr>\n",
              "    <tr>\n",
              "      <th>SM030818.140</th>\n",
              "      <td>0.000000</td>\n",
              "      <td>0.000000</td>\n",
              "      <td>0.000000</td>\n",
              "      <td>0.000009</td>\n",
              "      <td>0.000000</td>\n",
              "      <td>0.000000e+00</td>\n",
              "      <td>0.000000e+00</td>\n",
              "      <td>7.190002e-06</td>\n",
              "      <td>0.000000e+00</td>\n",
              "      <td>0.332580</td>\n",
              "      <td>...</td>\n",
              "      <td>0.000000e+00</td>\n",
              "      <td>0.000000</td>\n",
              "      <td>0.000016</td>\n",
              "      <td>0.000000e+00</td>\n",
              "      <td>0.000000e+00</td>\n",
              "      <td>0.000000e+00</td>\n",
              "      <td>0.000000</td>\n",
              "      <td>0.000000</td>\n",
              "      <td>0.000000e+00</td>\n",
              "      <td>0.119926</td>\n",
              "    </tr>\n",
              "    <tr>\n",
              "      <th>SM030818.141</th>\n",
              "      <td>0.000000</td>\n",
              "      <td>0.000000</td>\n",
              "      <td>0.000000</td>\n",
              "      <td>0.000147</td>\n",
              "      <td>0.000000</td>\n",
              "      <td>3.220001e-05</td>\n",
              "      <td>2.250001e-05</td>\n",
              "      <td>3.930002e-06</td>\n",
              "      <td>0.000000e+00</td>\n",
              "      <td>0.653072</td>\n",
              "      <td>...</td>\n",
              "      <td>5.950002e-06</td>\n",
              "      <td>0.000000</td>\n",
              "      <td>0.000000</td>\n",
              "      <td>0.000000e+00</td>\n",
              "      <td>3.530001e-06</td>\n",
              "      <td>0.000000e+00</td>\n",
              "      <td>0.000000</td>\n",
              "      <td>0.000000</td>\n",
              "      <td>0.000000e+00</td>\n",
              "      <td>0.016877</td>\n",
              "    </tr>\n",
              "    <tr>\n",
              "      <th>SM030818.142</th>\n",
              "      <td>0.000000</td>\n",
              "      <td>0.000000</td>\n",
              "      <td>0.000000</td>\n",
              "      <td>0.000749</td>\n",
              "      <td>0.000000</td>\n",
              "      <td>0.000000e+00</td>\n",
              "      <td>1.170001e-05</td>\n",
              "      <td>1.220001e-05</td>\n",
              "      <td>0.000000e+00</td>\n",
              "      <td>0.007509</td>\n",
              "      <td>...</td>\n",
              "      <td>0.000000e+00</td>\n",
              "      <td>0.000000</td>\n",
              "      <td>0.000000</td>\n",
              "      <td>0.000000e+00</td>\n",
              "      <td>0.000000e+00</td>\n",
              "      <td>0.000000e+00</td>\n",
              "      <td>0.000000</td>\n",
              "      <td>0.000000</td>\n",
              "      <td>0.000000e+00</td>\n",
              "      <td>0.002574</td>\n",
              "    </tr>\n",
              "    <tr>\n",
              "      <th>SM030818.143</th>\n",
              "      <td>0.000000</td>\n",
              "      <td>0.000000</td>\n",
              "      <td>0.000000</td>\n",
              "      <td>0.000386</td>\n",
              "      <td>0.000000</td>\n",
              "      <td>1.427456e-316</td>\n",
              "      <td>0.000000e+00</td>\n",
              "      <td>3.340000e-05</td>\n",
              "      <td>0.000000e+00</td>\n",
              "      <td>0.246223</td>\n",
              "      <td>...</td>\n",
              "      <td>0.000000e+00</td>\n",
              "      <td>0.000000</td>\n",
              "      <td>0.000000</td>\n",
              "      <td>0.000000e+00</td>\n",
              "      <td>0.000000e+00</td>\n",
              "      <td>0.000000e+00</td>\n",
              "      <td>0.000000</td>\n",
              "      <td>0.000000</td>\n",
              "      <td>0.000000e+00</td>\n",
              "      <td>0.010272</td>\n",
              "    </tr>\n",
              "    <tr>\n",
              "      <th>SM030818.144</th>\n",
              "      <td>0.000000</td>\n",
              "      <td>0.000000</td>\n",
              "      <td>0.000000</td>\n",
              "      <td>0.000159</td>\n",
              "      <td>0.000000</td>\n",
              "      <td>2.409999e-07</td>\n",
              "      <td>2.499999e-06</td>\n",
              "      <td>1.060000e-05</td>\n",
              "      <td>0.000000e+00</td>\n",
              "      <td>0.147219</td>\n",
              "      <td>...</td>\n",
              "      <td>3.159999e-06</td>\n",
              "      <td>0.000000</td>\n",
              "      <td>0.000005</td>\n",
              "      <td>0.000000e+00</td>\n",
              "      <td>0.000000e+00</td>\n",
              "      <td>0.000000e+00</td>\n",
              "      <td>0.000000</td>\n",
              "      <td>0.000000</td>\n",
              "      <td>0.000000e+00</td>\n",
              "      <td>0.000000</td>\n",
              "    </tr>\n",
              "    <tr>\n",
              "      <th>SM030818.145</th>\n",
              "      <td>0.000000</td>\n",
              "      <td>0.000000</td>\n",
              "      <td>0.000006</td>\n",
              "      <td>0.000120</td>\n",
              "      <td>0.000006</td>\n",
              "      <td>6.399998e-216</td>\n",
              "      <td>0.000000e+00</td>\n",
              "      <td>0.000000e+00</td>\n",
              "      <td>0.000000e+00</td>\n",
              "      <td>0.209569</td>\n",
              "      <td>...</td>\n",
              "      <td>0.000000e+00</td>\n",
              "      <td>0.000000</td>\n",
              "      <td>0.000000</td>\n",
              "      <td>7.359998e-06</td>\n",
              "      <td>4.309999e-55</td>\n",
              "      <td>0.000000e+00</td>\n",
              "      <td>0.000000</td>\n",
              "      <td>0.000000</td>\n",
              "      <td>0.000000e+00</td>\n",
              "      <td>0.534719</td>\n",
              "    </tr>\n",
              "    <tr>\n",
              "      <th>SM030818.146</th>\n",
              "      <td>0.000000</td>\n",
              "      <td>0.000000</td>\n",
              "      <td>0.000000</td>\n",
              "      <td>0.000079</td>\n",
              "      <td>0.000004</td>\n",
              "      <td>1.890000e-05</td>\n",
              "      <td>0.000000e+00</td>\n",
              "      <td>8.060000e-297</td>\n",
              "      <td>0.000000e+00</td>\n",
              "      <td>0.772113</td>\n",
              "      <td>...</td>\n",
              "      <td>0.000000e+00</td>\n",
              "      <td>0.000000</td>\n",
              "      <td>0.000000</td>\n",
              "      <td>0.000000e+00</td>\n",
              "      <td>0.000000e+00</td>\n",
              "      <td>0.000000e+00</td>\n",
              "      <td>0.000000</td>\n",
              "      <td>0.000000</td>\n",
              "      <td>0.000000e+00</td>\n",
              "      <td>0.000482</td>\n",
              "    </tr>\n",
              "    <tr>\n",
              "      <th>SM030818.147</th>\n",
              "      <td>0.000000</td>\n",
              "      <td>0.000000</td>\n",
              "      <td>0.000000</td>\n",
              "      <td>0.000062</td>\n",
              "      <td>0.000000</td>\n",
              "      <td>0.000000e+00</td>\n",
              "      <td>0.000000e+00</td>\n",
              "      <td>0.000000e+00</td>\n",
              "      <td>0.000000e+00</td>\n",
              "      <td>0.003068</td>\n",
              "      <td>...</td>\n",
              "      <td>0.000000e+00</td>\n",
              "      <td>0.000000</td>\n",
              "      <td>0.000000</td>\n",
              "      <td>0.000000e+00</td>\n",
              "      <td>0.000000e+00</td>\n",
              "      <td>0.000000e+00</td>\n",
              "      <td>0.000000</td>\n",
              "      <td>0.000000</td>\n",
              "      <td>0.000000e+00</td>\n",
              "      <td>0.159288</td>\n",
              "    </tr>\n",
              "    <tr>\n",
              "      <th>SM030818.148</th>\n",
              "      <td>0.000000</td>\n",
              "      <td>0.000000</td>\n",
              "      <td>0.000000</td>\n",
              "      <td>0.000348</td>\n",
              "      <td>0.000000</td>\n",
              "      <td>0.000000e+00</td>\n",
              "      <td>2.680000e-91</td>\n",
              "      <td>0.000000e+00</td>\n",
              "      <td>0.000000e+00</td>\n",
              "      <td>0.380723</td>\n",
              "      <td>...</td>\n",
              "      <td>0.000000e+00</td>\n",
              "      <td>0.000000</td>\n",
              "      <td>0.000000</td>\n",
              "      <td>0.000000e+00</td>\n",
              "      <td>0.000000e+00</td>\n",
              "      <td>0.000000e+00</td>\n",
              "      <td>0.000000</td>\n",
              "      <td>0.000000</td>\n",
              "      <td>0.000000e+00</td>\n",
              "      <td>0.001379</td>\n",
              "    </tr>\n",
              "    <tr>\n",
              "      <th>SM111418.12</th>\n",
              "      <td>0.000000</td>\n",
              "      <td>0.000000</td>\n",
              "      <td>0.000000</td>\n",
              "      <td>0.000050</td>\n",
              "      <td>0.000000</td>\n",
              "      <td>8.730000e-60</td>\n",
              "      <td>0.000000e+00</td>\n",
              "      <td>6.890000e-06</td>\n",
              "      <td>1.510000e-138</td>\n",
              "      <td>0.096994</td>\n",
              "      <td>...</td>\n",
              "      <td>0.000000e+00</td>\n",
              "      <td>0.000000</td>\n",
              "      <td>0.000000</td>\n",
              "      <td>0.000000e+00</td>\n",
              "      <td>0.000000e+00</td>\n",
              "      <td>0.000000e+00</td>\n",
              "      <td>0.000000</td>\n",
              "      <td>0.000000</td>\n",
              "      <td>0.000000e+00</td>\n",
              "      <td>0.000000</td>\n",
              "    </tr>\n",
              "    <tr>\n",
              "      <th>SM111418.44</th>\n",
              "      <td>0.000000</td>\n",
              "      <td>0.000000</td>\n",
              "      <td>0.000000</td>\n",
              "      <td>0.000008</td>\n",
              "      <td>0.000000</td>\n",
              "      <td>0.000000e+00</td>\n",
              "      <td>3.209999e-06</td>\n",
              "      <td>2.239999e-06</td>\n",
              "      <td>0.000000e+00</td>\n",
              "      <td>0.028415</td>\n",
              "      <td>...</td>\n",
              "      <td>2.699999e-06</td>\n",
              "      <td>0.000000</td>\n",
              "      <td>0.000000</td>\n",
              "      <td>3.029999e-06</td>\n",
              "      <td>0.000000e+00</td>\n",
              "      <td>0.000000e+00</td>\n",
              "      <td>0.000000</td>\n",
              "      <td>0.000001</td>\n",
              "      <td>8.519997e-07</td>\n",
              "      <td>0.053501</td>\n",
              "    </tr>\n",
              "    <tr>\n",
              "      <th>SM111418.59</th>\n",
              "      <td>0.000000</td>\n",
              "      <td>0.000000</td>\n",
              "      <td>0.000000</td>\n",
              "      <td>0.000048</td>\n",
              "      <td>0.000000</td>\n",
              "      <td>6.529998e-06</td>\n",
              "      <td>0.000000e+00</td>\n",
              "      <td>0.000000e+00</td>\n",
              "      <td>0.000000e+00</td>\n",
              "      <td>0.243463</td>\n",
              "      <td>...</td>\n",
              "      <td>0.000000e+00</td>\n",
              "      <td>0.000000</td>\n",
              "      <td>0.000013</td>\n",
              "      <td>1.500000e-05</td>\n",
              "      <td>0.000000e+00</td>\n",
              "      <td>1.979999e-05</td>\n",
              "      <td>0.000000</td>\n",
              "      <td>0.000000</td>\n",
              "      <td>0.000000e+00</td>\n",
              "      <td>0.000000</td>\n",
              "    </tr>\n",
              "    <tr>\n",
              "      <th>SM111418.113</th>\n",
              "      <td>0.000000</td>\n",
              "      <td>0.000000</td>\n",
              "      <td>0.000000</td>\n",
              "      <td>0.000029</td>\n",
              "      <td>0.000000</td>\n",
              "      <td>6.779999e-06</td>\n",
              "      <td>0.000000e+00</td>\n",
              "      <td>0.000000e+00</td>\n",
              "      <td>0.000000e+00</td>\n",
              "      <td>0.068303</td>\n",
              "      <td>...</td>\n",
              "      <td>0.000000e+00</td>\n",
              "      <td>0.000000</td>\n",
              "      <td>0.000000</td>\n",
              "      <td>0.000000e+00</td>\n",
              "      <td>0.000000e+00</td>\n",
              "      <td>0.000000e+00</td>\n",
              "      <td>0.000000</td>\n",
              "      <td>0.000000</td>\n",
              "      <td>0.000000e+00</td>\n",
              "      <td>0.002441</td>\n",
              "    </tr>\n",
              "    <tr>\n",
              "      <th>SM071219.66</th>\n",
              "      <td>0.000000</td>\n",
              "      <td>0.000000</td>\n",
              "      <td>0.000000</td>\n",
              "      <td>0.000390</td>\n",
              "      <td>0.000000</td>\n",
              "      <td>8.269999e-05</td>\n",
              "      <td>2.450000e-23</td>\n",
              "      <td>0.000000e+00</td>\n",
              "      <td>0.000000e+00</td>\n",
              "      <td>0.216815</td>\n",
              "      <td>...</td>\n",
              "      <td>0.000000e+00</td>\n",
              "      <td>0.000000</td>\n",
              "      <td>0.000000</td>\n",
              "      <td>0.000000e+00</td>\n",
              "      <td>0.000000e+00</td>\n",
              "      <td>1.272640e-04</td>\n",
              "      <td>0.000000</td>\n",
              "      <td>0.000000</td>\n",
              "      <td>0.000000e+00</td>\n",
              "      <td>0.000000</td>\n",
              "    </tr>\n",
              "    <tr>\n",
              "      <th>SM071219.89</th>\n",
              "      <td>0.000000</td>\n",
              "      <td>0.000000</td>\n",
              "      <td>0.000000</td>\n",
              "      <td>0.000024</td>\n",
              "      <td>0.000000</td>\n",
              "      <td>0.000000e+00</td>\n",
              "      <td>0.000000e+00</td>\n",
              "      <td>1.471000e-04</td>\n",
              "      <td>0.000000e+00</td>\n",
              "      <td>0.084242</td>\n",
              "      <td>...</td>\n",
              "      <td>0.000000e+00</td>\n",
              "      <td>0.000000</td>\n",
              "      <td>0.000024</td>\n",
              "      <td>0.000000e+00</td>\n",
              "      <td>0.000000e+00</td>\n",
              "      <td>0.000000e+00</td>\n",
              "      <td>0.000014</td>\n",
              "      <td>0.000000</td>\n",
              "      <td>0.000000e+00</td>\n",
              "      <td>0.028055</td>\n",
              "    </tr>\n",
              "    <tr>\n",
              "      <th>SM071219.92</th>\n",
              "      <td>0.000000</td>\n",
              "      <td>0.000000</td>\n",
              "      <td>0.000000</td>\n",
              "      <td>0.000000</td>\n",
              "      <td>0.000000</td>\n",
              "      <td>0.000000e+00</td>\n",
              "      <td>0.000000e+00</td>\n",
              "      <td>0.000000e+00</td>\n",
              "      <td>0.000000e+00</td>\n",
              "      <td>0.021739</td>\n",
              "      <td>...</td>\n",
              "      <td>0.000000e+00</td>\n",
              "      <td>0.000000</td>\n",
              "      <td>0.000000</td>\n",
              "      <td>0.000000e+00</td>\n",
              "      <td>0.000000e+00</td>\n",
              "      <td>0.000000e+00</td>\n",
              "      <td>0.000000</td>\n",
              "      <td>0.000000</td>\n",
              "      <td>0.000000e+00</td>\n",
              "      <td>0.000004</td>\n",
              "    </tr>\n",
              "    <tr>\n",
              "      <th>SM071219.95</th>\n",
              "      <td>0.000000</td>\n",
              "      <td>0.000000</td>\n",
              "      <td>0.000000</td>\n",
              "      <td>0.000009</td>\n",
              "      <td>0.000000</td>\n",
              "      <td>1.340000e-19</td>\n",
              "      <td>0.000000e+00</td>\n",
              "      <td>0.000000e+00</td>\n",
              "      <td>0.000000e+00</td>\n",
              "      <td>0.005830</td>\n",
              "      <td>...</td>\n",
              "      <td>0.000000e+00</td>\n",
              "      <td>0.000000</td>\n",
              "      <td>0.000000</td>\n",
              "      <td>0.000000e+00</td>\n",
              "      <td>0.000000e+00</td>\n",
              "      <td>0.000000e+00</td>\n",
              "      <td>0.000000</td>\n",
              "      <td>0.000000</td>\n",
              "      <td>0.000000e+00</td>\n",
              "      <td>0.001284</td>\n",
              "    </tr>\n",
              "  </tbody>\n",
              "</table>\n",
              "<p>42 rows × 483 columns</p>\n",
              "</div>\n",
              "      <button class=\"colab-df-convert\" onclick=\"convertToInteractive('df-70ce4aef-ac45-4d71-b00b-fabd458acc36')\"\n",
              "              title=\"Convert this dataframe to an interactive table.\"\n",
              "              style=\"display:none;\">\n",
              "        \n",
              "  <svg xmlns=\"http://www.w3.org/2000/svg\" height=\"24px\"viewBox=\"0 0 24 24\"\n",
              "       width=\"24px\">\n",
              "    <path d=\"M0 0h24v24H0V0z\" fill=\"none\"/>\n",
              "    <path d=\"M18.56 5.44l.94 2.06.94-2.06 2.06-.94-2.06-.94-.94-2.06-.94 2.06-2.06.94zm-11 1L8.5 8.5l.94-2.06 2.06-.94-2.06-.94L8.5 2.5l-.94 2.06-2.06.94zm10 10l.94 2.06.94-2.06 2.06-.94-2.06-.94-.94-2.06-.94 2.06-2.06.94z\"/><path d=\"M17.41 7.96l-1.37-1.37c-.4-.4-.92-.59-1.43-.59-.52 0-1.04.2-1.43.59L10.3 9.45l-7.72 7.72c-.78.78-.78 2.05 0 2.83L4 21.41c.39.39.9.59 1.41.59.51 0 1.02-.2 1.41-.59l7.78-7.78 2.81-2.81c.8-.78.8-2.07 0-2.86zM5.41 20L4 18.59l7.72-7.72 1.47 1.35L5.41 20z\"/>\n",
              "  </svg>\n",
              "      </button>\n",
              "      \n",
              "  <style>\n",
              "    .colab-df-container {\n",
              "      display:flex;\n",
              "      flex-wrap:wrap;\n",
              "      gap: 12px;\n",
              "    }\n",
              "\n",
              "    .colab-df-convert {\n",
              "      background-color: #E8F0FE;\n",
              "      border: none;\n",
              "      border-radius: 50%;\n",
              "      cursor: pointer;\n",
              "      display: none;\n",
              "      fill: #1967D2;\n",
              "      height: 32px;\n",
              "      padding: 0 0 0 0;\n",
              "      width: 32px;\n",
              "    }\n",
              "\n",
              "    .colab-df-convert:hover {\n",
              "      background-color: #E2EBFA;\n",
              "      box-shadow: 0px 1px 2px rgba(60, 64, 67, 0.3), 0px 1px 3px 1px rgba(60, 64, 67, 0.15);\n",
              "      fill: #174EA6;\n",
              "    }\n",
              "\n",
              "    [theme=dark] .colab-df-convert {\n",
              "      background-color: #3B4455;\n",
              "      fill: #D2E3FC;\n",
              "    }\n",
              "\n",
              "    [theme=dark] .colab-df-convert:hover {\n",
              "      background-color: #434B5C;\n",
              "      box-shadow: 0px 1px 3px 1px rgba(0, 0, 0, 0.15);\n",
              "      filter: drop-shadow(0px 1px 2px rgba(0, 0, 0, 0.3));\n",
              "      fill: #FFFFFF;\n",
              "    }\n",
              "  </style>\n",
              "\n",
              "      <script>\n",
              "        const buttonEl =\n",
              "          document.querySelector('#df-70ce4aef-ac45-4d71-b00b-fabd458acc36 button.colab-df-convert');\n",
              "        buttonEl.style.display =\n",
              "          google.colab.kernel.accessAllowed ? 'block' : 'none';\n",
              "\n",
              "        async function convertToInteractive(key) {\n",
              "          const element = document.querySelector('#df-70ce4aef-ac45-4d71-b00b-fabd458acc36');\n",
              "          const dataTable =\n",
              "            await google.colab.kernel.invokeFunction('convertToInteractive',\n",
              "                                                     [key], {});\n",
              "          if (!dataTable) return;\n",
              "\n",
              "          const docLinkHtml = 'Like what you see? Visit the ' +\n",
              "            '<a target=\"_blank\" href=https://colab.research.google.com/notebooks/data_table.ipynb>data table notebook</a>'\n",
              "            + ' to learn more about interactive tables.';\n",
              "          element.innerHTML = '';\n",
              "          dataTable['output_type'] = 'display_data';\n",
              "          await google.colab.output.renderOutput(dataTable, element);\n",
              "          const docLink = document.createElement('div');\n",
              "          docLink.innerHTML = docLinkHtml;\n",
              "          element.appendChild(docLink);\n",
              "        }\n",
              "      </script>\n",
              "    </div>\n",
              "  </div>\n",
              "  "
            ]
          },
          "metadata": {},
          "execution_count": 326
        }
      ]
    },
    {
      "cell_type": "code",
      "source": [
        "#mi generador de dropouts con semilla\n",
        "def matrix_dropout (df, por_drop = 0.1,seed=42):\n",
        "  if por_drop <1:\n",
        "    shape= df.shape[0]*df.shape[1]\n",
        "    zeros= shape*por_drop\n",
        "    ones=  shape*( 1-por_drop)\n",
        "    random_1 = np.array([])\n",
        "    random_0 = np.array([])\n",
        "    zeros = round(zeros) \n",
        "    ones = round(ones)\n",
        "    random_0 = np.zeros(zeros) \n",
        "    random_1 = np.ones(ones)\n",
        "\n",
        "    random_dropout = np.append(random_0,random_1)\n",
        "    random_dropout = np.random.RandomState(seed=seed).permutation(random_dropout) # we use a permutation\n",
        "    random_dropout = random_dropout.reshape(df.shape)\n",
        "    \n",
        "    noise_data = df / random_dropout \n",
        "    noise_data  = noise_data.replace([np.inf, -np.inf], np.nan)\n",
        "\n",
        "    noise_data = noise_data.replace(np.nan, 0)\n",
        "    noise_data    \n",
        "    return noise_data\n",
        "  else:\n",
        "    print('must be a porcentance a number less than 1 and more than 0')"
      ],
      "metadata": {
        "id": "D1TFfJYUhx0L"
      },
      "execution_count": 327,
      "outputs": []
    },
    {
      "cell_type": "code",
      "source": [
        "\n",
        "matrix_dropouted = matrix_dropout (table_shotgun_ok, por_drop = 0.8,seed=42)"
      ],
      "metadata": {
        "id": "iRyGmCjthxxn"
      },
      "execution_count": 619,
      "outputs": []
    },
    {
      "cell_type": "code",
      "source": [
        "#ver folios duplicados pd.DataFrame(Poblaciones['Folio_PRONACE'].value_counts())\n",
        "import missingno as msno\n",
        "msno.matrix(table_shotgun_ok.replace(0,np.nan))"
      ],
      "metadata": {
        "colab": {
          "base_uri": "https://localhost:8080/",
          "height": 557
        },
        "id": "S8-eoby3hxsI",
        "outputId": "548ff0fa-4738-452e-c85c-421931384d32"
      },
      "execution_count": 620,
      "outputs": [
        {
          "output_type": "execute_result",
          "data": {
            "text/plain": [
              "<Axes: >"
            ]
          },
          "metadata": {},
          "execution_count": 620
        },
        {
          "output_type": "display_data",
          "data": {
            "text/plain": [
              "<Figure size 2500x1000 with 2 Axes>"
            ],
            "image/png": "[encoded data removed]"
          },
          "metadata": {}
        }
      ]
    },
    {
      "cell_type": "code",
      "source": [
        "#ver folios duplicados pd.DataFrame(Poblaciones['Folio_PRONACE'].value_counts())\n",
        "import missingno as msno\n",
        "msno.matrix(matrix_dropouted.replace(0,np.nan))"
      ],
      "metadata": {
        "colab": {
          "base_uri": "https://localhost:8080/",
          "height": 560
        },
        "id": "sp7nVi11hxph",
        "outputId": "950ba07e-dfbe-4e42-f5ec-029edbb2bbae"
      },
      "execution_count": 621,
      "outputs": [
        {
          "output_type": "execute_result",
          "data": {
            "text/plain": [
              "<Axes: >"
            ]
          },
          "metadata": {},
          "execution_count": 621
        },
        {
          "output_type": "display_data",
          "data": {
            "text/plain": [
              "<Figure size 2500x1000 with 2 Axes>"
            ],
            "image/png": "[encoded data removed]"
          },
          "metadata": {}
        }
      ]
    },
    {
      "cell_type": "code",
      "source": [
        "umap_op = umap.UMAP(n_components=10, verbose=True,metric='euclidean',n_epochs=500,min_dist=0.1,\n",
        "                    n_neighbors=30,random_state=1,target_weight=0.5)\n",
        "data_umap_vis_super = umap_op.fit_transform(matrix_dropouted,T_16S_labels['SampleType'].replace( {'Healthy': 0, 'UC':1}))"
      ],
      "metadata": {
        "colab": {
          "base_uri": "https://localhost:8080/",
          "height": 156,
          "referenced_widgets": [
            "de6f7a4efd724acaa863e852a540528f",
            "ef4cb4dd5187407e8b74d499180a525c",
            "5bfc7c0017034b37a0cb44bedb7b7e1c",
            "22dcfe7b239b405e9a9351df33a8b8bf",
            "bd806440a1a848a681be0f3792c19dc8",
            "2571c05cb9404b62b2a6f8c7ab2d43e9",
            "9fa23a6a0b4b4fe2af2c62b2577e5c6a",
            "c1d0ee0c5e07416e866c76e4f58d601e",
            "ee14ab9565e244459f74cb662fa756e3",
            "8be245b54b764bd38bab1da32385703b",
            "34601116624d4de28be9e9d956b6e9df"
          ]
        },
        "id": "M-8QIewUnaYp",
        "outputId": "bd4681b3-3631-4a82-b63a-b1146fef7ba6"
      },
      "execution_count": 635,
      "outputs": [
        {
          "output_type": "stream",
          "name": "stdout",
          "text": [
            "UMAP(n_components=10, n_epochs=500, n_neighbors=30, random_state=1, verbose=True)\n",
            "Tue Apr 18 23:05:19 2023 Construct fuzzy simplicial set\n",
            "Tue Apr 18 23:05:19 2023 Finding Nearest Neighbors\n",
            "Tue Apr 18 23:05:19 2023 Finished Nearest Neighbor Search\n",
            "Tue Apr 18 23:05:19 2023 Construct embedding\n"
          ]
        },
        {
          "output_type": "display_data",
          "data": {
            "text/plain": [
              "Epochs completed:   0%|            0/500 [00:00]"
            ],
            "application/vnd.jupyter.widget-view+json": {
              "version_major": 2,
              "version_minor": 0,
              "model_id": "de6f7a4efd724acaa863e852a540528f"
            }
          },
          "metadata": {}
        },
        {
          "output_type": "stream",
          "name": "stdout",
          "text": [
            "Tue Apr 18 23:05:20 2023 Finished embedding\n"
          ]
        }
      ]
    },
    {
      "cell_type": "code",
      "source": [
        "imputed_ALL =mbPHENIX(matrix_dropouted, data_umap_vis_super, t=2,decay=500,metric='euclidean',knn=10)"
      ],
      "metadata": {
        "colab": {
          "base_uri": "https://localhost:8080/"
        },
        "id": "dP66zIa7hxmp",
        "outputId": "eebbe3d5-dc42-416a-8739-8f9aca24fc68"
      },
      "execution_count": 636,
      "outputs": [
        {
          "output_type": "stream",
          "name": "stdout",
          "text": [
            "calculando distancias\n",
            "(42, 42)\n",
            "done distance matrix\n",
            "knn\n",
            " knn done\n",
            " afinity matrix\n",
            " afinity matrix done\n",
            "imputation\n",
            "done\n",
            "done Tue Apr 18 23:05:20 2023\n"
          ]
        },
        {
          "output_type": "stream",
          "name": "stderr",
          "text": [
            "overflow encountered in power\n"
          ]
        }
      ]
    },
    {
      "cell_type": "code",
      "source": [
        "#ver folios duplicados pd.DataFrame(Poblaciones['Folio_PRONACE'].value_counts())\n",
        "import missingno as msno\n",
        "msno.matrix(imputed_ALL.replace(0,np.nan))"
      ],
      "metadata": {
        "colab": {
          "base_uri": "https://localhost:8080/",
          "height": 553
        },
        "id": "n0UV_jD7nPAy",
        "outputId": "ef2c0570-34e2-4049-8086-f4ffa8200c82"
      },
      "execution_count": 637,
      "outputs": [
        {
          "output_type": "execute_result",
          "data": {
            "text/plain": [
              "<Axes: >"
            ]
          },
          "metadata": {},
          "execution_count": 637
        },
        {
          "output_type": "display_data",
          "data": {
            "text/plain": [
              "<Figure size 2500x1000 with 2 Axes>"
            ],
            "image/png": "[encoded data removed]"
          },
          "metadata": {}
        }
      ]
    },
    {
      "cell_type": "code",
      "source": [
        "msno.matrix(imputed_ALL [imputed_ALL > 1e-9].replace(0,np.nan))"
      ],
      "metadata": {
        "colab": {
          "base_uri": "https://localhost:8080/",
          "height": 553
        },
        "id": "bxCxDvQ6nO7l",
        "outputId": "0942f90c-3760-4215-f923-d269e050274e"
      },
      "execution_count": 638,
      "outputs": [
        {
          "output_type": "execute_result",
          "data": {
            "text/plain": [
              "<Axes: >"
            ]
          },
          "metadata": {},
          "execution_count": 638
        },
        {
          "output_type": "display_data",
          "data": {
            "text/plain": [
              "<Figure size 2500x1000 with 2 Axes>"
            ],
            "image/png": "[encoded data removed]"
          },
          "metadata": {}
        }
      ]
    },
    {
      "cell_type": "code",
      "source": [],
      "metadata": {
        "id": "D5JuhYNrgbUy"
      },
      "execution_count": 588,
      "outputs": []
    },
    {
      "cell_type": "code",
      "source": [
        "# calculate the correlation matrix between the two dataframes\n",
        "corr_mat = np.corrcoef(table_shotgun_ok.values.flatten(), matrix_dropouted.values.flatten()).reshape((2,2))\n",
        "corr_mat\n"
      ],
      "metadata": {
        "colab": {
          "base_uri": "https://localhost:8080/"
        },
        "id": "jpo6q1wRr9zy",
        "outputId": "75e70e11-423a-4536-8193-fe9205105843"
      },
      "execution_count": 639,
      "outputs": [
        {
          "output_type": "execute_result",
          "data": {
            "text/plain": [
              "array([[1.        , 0.34458824],\n",
              "       [0.34458824, 1.        ]])"
            ]
          },
          "metadata": {},
          "execution_count": 639
        }
      ]
    },
    {
      "cell_type": "code",
      "source": [
        "# calculate the correlation matrix between the two dataframes\n",
        "corr_mat = np.corrcoef(table_shotgun_ok.values.flatten(), imputed_ALL.values.flatten()).reshape((2,2))\n",
        "corr_mat\n"
      ],
      "metadata": {
        "colab": {
          "base_uri": "https://localhost:8080/"
        },
        "id": "vCIPbziLeJcg",
        "outputId": "02314a8c-a5e6-4749-d962-86ee2ddfe218"
      },
      "execution_count": 640,
      "outputs": [
        {
          "output_type": "execute_result",
          "data": {
            "text/plain": [
              "array([[1.        , 0.38022968],\n",
              "       [0.38022968, 1.        ]])"
            ]
          },
          "metadata": {},
          "execution_count": 640
        }
      ]
    },
    {
      "cell_type": "code",
      "source": [
        "df = pd.DataFrame()\n",
        "df['mean_genus'] =table_shotgun_ok.mean()\n",
        "df['zeros_porcentage']=table_shotgun_ok.replace(0,np.nan).isna().mean() * 100\n"
      ],
      "metadata": {
        "id": "aC7ItPIibTPl"
      },
      "execution_count": 641,
      "outputs": []
    },
    {
      "cell_type": "code",
      "source": [
        "import seaborn as sns\n",
        "import pandas as pd\n",
        "import numpy as np\n",
        "\n",
        "# create a sample dataframe\n",
        "\n",
        "# create scatter plot\n",
        "sns.scatterplot(x='mean_genus', y='zeros_porcentage', data=df)\n",
        "\n",
        "# display the plot\n",
        "plt.show()\n"
      ],
      "metadata": {
        "colab": {
          "base_uri": "https://localhost:8080/",
          "height": 449
        },
        "id": "sAua4w73bqn7",
        "outputId": "51cd9642-880b-4eaf-fe6d-e99b4a567857"
      },
      "execution_count": 642,
      "outputs": [
        {
          "output_type": "display_data",
          "data": {
            "text/plain": [
              "<Figure size 640x480 with 1 Axes>"
            ],
            "image/png": "[encoded data removed]"
          },
          "metadata": {}
        }
      ]
    },
    {
      "cell_type": "code",
      "source": [
        "\n",
        "# create joint plot with scatter plot and kernel density estimate\n",
        "jp = sns.jointplot(x='mean_genus', y='zeros_porcentage', data=df, kind='kde', height=6, ratio=2,joint_kws={'shade': True, 'color': 'grey'},marginal_kws={'color': 'grey'})\n",
        "\n",
        "# overlay scatter plot on joint plot\n",
        "jp.plot_joint(sns.scatterplot, color='black', alpha=0.5)"
      ],
      "metadata": {
        "colab": {
          "base_uri": "https://localhost:8080/",
          "height": 714
        },
        "id": "byQo5vWfk9Ee",
        "outputId": "2e3de97f-1e09-4ef0-c16a-1a55459bd503"
      },
      "execution_count": 643,
      "outputs": [
        {
          "output_type": "stream",
          "name": "stderr",
          "text": [
            "\n",
            "\n",
            "`shade` is now deprecated in favor of `fill`; setting `fill=True`.\n",
            "This will become an error in seaborn v0.14.0; please update your code.\n",
            "\n"
          ]
        },
        {
          "output_type": "execute_result",
          "data": {
            "text/plain": [
              "<seaborn.axisgrid.JointGrid at 0x7f7e8737bc10>"
            ]
          },
          "metadata": {},
          "execution_count": 643
        },
        {
          "output_type": "display_data",
          "data": {
            "text/plain": [
              "<Figure size 600x600 with 3 Axes>"
            ],
            "image/png": "[encoded data removed]"
          },
          "metadata": {}
        }
      ]
    },
    {
      "cell_type": "code",
      "source": [
        "df = pd.DataFrame()\n",
        "df['mean_genus'] =imputed_ALL [imputed_ALL > 1e-9].replace(np.nan,0).mean()\n",
        "df['zeros_porcentage']=imputed_ALL [imputed_ALL > 1e-9].replace(np.nan,0).replace(0,np.nan).isna().mean() * 100\n"
      ],
      "metadata": {
        "id": "vH0Lbswjc4au"
      },
      "execution_count": 644,
      "outputs": []
    },
    {
      "cell_type": "code",
      "source": [
        "import seaborn as sns\n",
        "import pandas as pd\n",
        "import numpy as np\n",
        "\n",
        "# create a sample dataframe\n",
        "\n",
        "# create scatter plot\n",
        "sns.scatterplot(x='mean_genus', y='zeros_porcentage', data=df)\n",
        "# display the plot\n",
        "plt.show()"
      ],
      "metadata": {
        "colab": {
          "base_uri": "https://localhost:8080/",
          "height": 449
        },
        "id": "4iusXaAnejC_",
        "outputId": "875c8d39-3276-4edf-9f3a-25c544202157"
      },
      "execution_count": 645,
      "outputs": [
        {
          "output_type": "display_data",
          "data": {
            "text/plain": [
              "<Figure size 640x480 with 1 Axes>"
            ],
            "image/png": "[encoded data removed]"
          },
          "metadata": {}
        }
      ]
    },
    {
      "cell_type": "code",
      "source": [
        "\n",
        "# create joint plot with scatter plot and kernel density estimate\n",
        "jp = sns.jointplot(x='mean_genus', y='zeros_porcentage', data=df, kind='kde', height=6, ratio=2,joint_kws={'shade': True, 'color': 'grey'},marginal_kws={'color': 'grey'})\n",
        "# overlay scatter plot on joint plot\n",
        "jp.plot_joint(sns.scatterplot, color='black', alpha=0.5)"
      ],
      "metadata": {
        "colab": {
          "base_uri": "https://localhost:8080/",
          "height": 714
        },
        "id": "56oeDMfzls0L",
        "outputId": "57bf2126-bf36-4644-f2ce-c9e81dbdf7ab"
      },
      "execution_count": 646,
      "outputs": [
        {
          "output_type": "stream",
          "name": "stderr",
          "text": [
            "\n",
            "\n",
            "`shade` is now deprecated in favor of `fill`; setting `fill=True`.\n",
            "This will become an error in seaborn v0.14.0; please update your code.\n",
            "\n"
          ]
        },
        {
          "output_type": "execute_result",
          "data": {
            "text/plain": [
              "<seaborn.axisgrid.JointGrid at 0x7f7e872328b0>"
            ]
          },
          "metadata": {},
          "execution_count": 646
        },
        {
          "output_type": "display_data",
          "data": {
            "text/plain": [
              "<Figure size 600x600 with 3 Axes>"
            ],
            "image/png": "[encoded data removed]"
          },
          "metadata": {}
        }
      ]
    },
    {
      "cell_type": "code",
      "source": [],
      "metadata": {
        "id": "bJuXyS34nOtw"
      },
      "execution_count": null,
      "outputs": []
    },
    {
      "cell_type": "code",
      "source": [],
      "metadata": {
        "id": "5SvX_8MEnOq5"
      },
      "execution_count": null,
      "outputs": []
    },
    {
      "cell_type": "code",
      "source": [
        "import numpy as np\n",
        "comunes = np.intersect1d(table_16S_ok.columns, table_shotgun_ok.columns)"
      ],
      "metadata": {
        "id": "r_Lnw69YF0Ds"
      },
      "execution_count": 528,
      "outputs": []
    },
    {
      "cell_type": "code",
      "source": [
        "shotgun = table_shotgun_ok[comunes]\n",
        "T_16S = table_16S_ok [comunes]"
      ],
      "metadata": {
        "id": "gJD5Bc0AF0Bm"
      },
      "execution_count": 529,
      "outputs": []
    },
    {
      "cell_type": "code",
      "source": [
        "shotgun_labels = pd.DataFrame()\n",
        "shotgun_labels['SampleType'] = metadata.set_index('shotgun.SampleID')['SampleType']"
      ],
      "metadata": {
        "id": "R0X4njYrFz_Q"
      },
      "execution_count": 530,
      "outputs": []
    },
    {
      "cell_type": "code",
      "source": [
        "T_16S_labels = pd.DataFrame()\n",
        "T_16S_labels['SampleType'] = metadata.set_index('shotgun.SampleID')['SampleType']"
      ],
      "metadata": {
        "id": "5jMMXcj6Fz8q"
      },
      "execution_count": 531,
      "outputs": []
    },
    {
      "cell_type": "markdown",
      "source": [
        "#Correlation analysis of by healty sample among technologies 16s vs shotgun with non-imputation"
      ],
      "metadata": {
        "id": "L27FT1CbHXAZ"
      }
    },
    {
      "cell_type": "code",
      "source": [
        "shotgun_Healthy = shotgun[shotgun_labels['SampleType'] == 'Healthy']"
      ],
      "metadata": {
        "id": "QVoEn4rDH6YK"
      },
      "execution_count": null,
      "outputs": []
    },
    {
      "cell_type": "code",
      "source": [
        "T_16S_Healthy = T_16S[T_16S_labels['SampleType'] == 'Healthy']"
      ],
      "metadata": {
        "id": "oQ8cy47AIyIl"
      },
      "execution_count": null,
      "outputs": []
    },
    {
      "cell_type": "code",
      "source": [
        "\"\"\"\"\n",
        "import seaborn as sns\n",
        "import matplotlib.pyplot as plt\n",
        "\n",
        "fig, ax = plt.subplots(figsize=(12*2, 10*2)) # set the figure size\n",
        "sns.heatmap(T_16S_Healthy.corr(), cmap='coolwarm', ax=ax)\n",
        "\"\"\""
      ],
      "metadata": {
        "id": "GlDyNkn4PReQ"
      },
      "execution_count": null,
      "outputs": []
    },
    {
      "cell_type": "code",
      "source": [
        "\"\"\"\n",
        "import seaborn as sns\n",
        "import matplotlib.pyplot as plt\n",
        "\n",
        "fig, ax = plt.subplots(figsize=(12*2, 10*2)) # set the figure size\n",
        "sns.heatmap(shotgun_Healthy.corr(), cmap='coolwarm', ax=ax)\n",
        "\"\"\""
      ],
      "metadata": {
        "id": "qU_HMRqXNOnx"
      },
      "execution_count": null,
      "outputs": []
    },
    {
      "cell_type": "code",
      "source": [
        "T_16S_Healthy"
      ],
      "metadata": {
        "id": "F4lxINZ5ROqS"
      },
      "execution_count": null,
      "outputs": []
    },
    {
      "cell_type": "code",
      "execution_count": null,
      "metadata": {
        "id": "-YebCHzT5-3W"
      },
      "outputs": [],
      "source": [
        "import numpy as np\n",
        "import seaborn as sns\n",
        "\n",
        "# create two dataframes\n",
        "df1 = T_16S_Healthy.sort_index()\n",
        "df2 = shotgun_Healthy.sort_index()\n",
        "\n",
        "# calculate the correlation matrix between the two dataframes\n",
        "corr_mat = np.corrcoef(df1.values.flatten(), df2.values.flatten()).reshape((2,2))\n",
        "corr_mat\n"
      ]
    },
    {
      "cell_type": "markdown",
      "metadata": {
        "id": "tQdgIya55GKa"
      },
      "source": [
        "#**Microbiome data**"
      ]
    },
    {
      "cell_type": "code",
      "execution_count": null,
      "metadata": {
        "id": "AtskDJ7b5NTM"
      },
      "outputs": [],
      "source": [
        "url_mbphenix = 'https://raw.githubusercontent.com/resendislab/mb-PHENIX/main/CODE/mb-phenix%20code/mb_PHENIX.py'"
      ]
    },
    {
      "cell_type": "code",
      "execution_count": null,
      "metadata": {
        "id": "LaYtWkCH90zc"
      },
      "outputs": [],
      "source": [
        "urllib.request.urlretrieve(url_mbphenix, 'mb_PHENIX.py')\n",
        "os.listdir()\n",
        "!cd /content"
      ]
    },
    {
      "cell_type": "markdown",
      "metadata": {
        "id": "bFMbiocb2f2P"
      },
      "source": [
        "#**Import mb-PHENIX**"
      ]
    },
    {
      "cell_type": "code",
      "execution_count": null,
      "metadata": {
        "id": "cpryjUAqv0e1"
      },
      "outputs": [],
      "source": [
        "from mb_PHENIX import mbPHENIX"
      ]
    },
    {
      "cell_type": "markdown",
      "metadata": {
        "id": "0aFwx3TvKkS0"
      },
      "source": [
        "#**imputation mb-PHENIX in a surpervised manner**\n",
        "this is just like sc-phenix https://doi.org/10.1101/2022.06.09.495525"
      ]
    },
    {
      "cell_type": "code",
      "execution_count": null,
      "metadata": {
        "id": "Jg6dPUBzu1z6"
      },
      "outputs": [],
      "source": [
        "umap_op = umap.UMAP(n_components=10, verbose=True,metric='euclidean',n_epochs=500,min_dist=0.1,\n",
        "                    n_neighbors=30,random_state=1,target_weight=0.9)\n",
        "data_umap_vis_super = umap_op.fit_transform(T_16S,T_16S_labels['SampleType'].replace( {'Healthy': 0, 'UC':1}))"
      ]
    },
    {
      "cell_type": "code",
      "execution_count": null,
      "metadata": {
        "id": "u9a6AXhI9Smr"
      },
      "outputs": [],
      "source": [
        "imputed_ALL =mbPHENIX(T_16S, data_umap_vis_super, t=3,decay=15,metric='euclidean',knn=11)"
      ]
    },
    {
      "cell_type": "code",
      "source": [
        "umap_op = umap.UMAP(n_components=2, verbose=True,metric='euclidean',n_epochs=500,min_dist=0.1,\n",
        "                    n_neighbors=30,random_state=1)\n",
        "data_umap_vis_super = umap_op.fit_transform(imputed_ALL)"
      ],
      "metadata": {
        "id": "eFx66zUeEWfk"
      },
      "execution_count": null,
      "outputs": []
    },
    {
      "cell_type": "code",
      "source": [
        "import plotly.express as px\n",
        "\n",
        "fig = px.scatter(data_umap_vis_super, x=0, y=1, color= T_16S_labels['SampleType'])\n",
        "\n",
        "fig.update_layout({'plot_bgcolor':'rgba(0,0,0,0)'\n",
        "    \n",
        "})\n",
        "fig.update_traces(marker=dict(size=5))\n",
        "fig.show()"
      ],
      "metadata": {
        "id": "u5inyfWEF9l6"
      },
      "execution_count": null,
      "outputs": []
    },
    {
      "cell_type": "code",
      "source": [
        "umap_op = umap.UMAP(n_components=2, verbose=True,metric='euclidean',n_epochs=500,min_dist=0.1,\n",
        "                    n_neighbors=30,random_state=1,target_weight=0.5)\n",
        "data_umap_vis_super = umap_op.fit_transform(T_16S)\n",
        "\n"
      ],
      "metadata": {
        "id": "w1FRQvNkGXTe"
      },
      "execution_count": null,
      "outputs": []
    },
    {
      "cell_type": "code",
      "source": [
        "import plotly.express as px\n",
        "\n",
        "fig = px.scatter(data_umap_vis_super, x=0, y=1, color= T_16S_labels['SampleType'])\n",
        "\n",
        "fig.update_layout({'plot_bgcolor':'rgba(0,0,0,0)'\n",
        "    \n",
        "})\n",
        "fig.update_traces(marker=dict(size=5))\n",
        "fig.show()\n"
      ],
      "metadata": {
        "id": "O22XHlxZGihq"
      },
      "execution_count": null,
      "outputs": []
    },
    {
      "cell_type": "markdown",
      "source": [
        "import xgboost as xgb\n"
      ],
      "metadata": {
        "id": "fAy53EIIIFKM"
      }
    },
    {
      "cell_type": "code",
      "source": [
        "import xgboost as xgb\n",
        "clf = xgb.XGBClassifier()\n",
        "import shap\n",
        "explainer = shap.TreeExplainer(clf.fit(T_16S,\n",
        "                                       T_16S_labels['SampleType'].replace( {'Healthy': 0, 'UC':1})))\n",
        "shap_values = explainer.shap_values(T_16S)"
      ],
      "metadata": {
        "id": "wMrxLLGAIF0i"
      },
      "execution_count": null,
      "outputs": []
    },
    {
      "cell_type": "code",
      "source": [
        "umap_op = umap.UMAP(n_components=2, verbose=True,metric='euclidean',n_epochs=500,min_dist=0.1,\n",
        "                    n_neighbors=30,random_state=1)\n",
        "umap_super_shap = umap_op.fit_transform(shap_values)"
      ],
      "metadata": {
        "id": "0RlVvlnQLnIT"
      },
      "execution_count": null,
      "outputs": []
    },
    {
      "cell_type": "code",
      "source": [
        "imputed_ALL =mbPHENIX(T_16S, umap_super_shap, t=3,decay=15,metric='euclidean',knn=15)"
      ],
      "metadata": {
        "id": "RTwYgZ8ZL5ak"
      },
      "execution_count": null,
      "outputs": []
    },
    {
      "cell_type": "code",
      "source": [
        "umap_op = umap.UMAP(n_components=2, verbose=True,metric='euclidean',n_epochs=500,min_dist=0.1,\n",
        "                    n_neighbors=30,random_state=1,target_weight=0.5)\n",
        "data_umap_vis_super = umap_op.fit_transform(imputed_ALL)\n"
      ],
      "metadata": {
        "id": "tHSACi3jL9tB"
      },
      "execution_count": null,
      "outputs": []
    },
    {
      "cell_type": "code",
      "source": [
        "import plotly.express as px\n",
        "\n",
        "fig = px.scatter(data_umap_vis_super, x=0, y=1, color= T_16S_labels['SampleType'])\n",
        "\n",
        "fig.update_layout({'plot_bgcolor':'rgba(0,0,0,0)'\n",
        "    \n",
        "})\n",
        "fig.update_traces(marker=dict(size=5))\n",
        "fig.show()"
      ],
      "metadata": {
        "id": "lO6yYnYXMA0d"
      },
      "execution_count": null,
      "outputs": []
    },
    {
      "cell_type": "code",
      "source": [
        "import plotly.express as px\n",
        "\n",
        "fig = px.scatter(data_umap_vis_super, x=0, y=1, color= imputed_ALL.g__Anaerococcus)\n",
        "\n",
        "fig.update_layout({'plot_bgcolor':'rgba(0,0,0,0)'\n",
        "    \n",
        "})\n",
        "fig.update_traces(marker=dict(size=5))\n",
        "fig.show()"
      ],
      "metadata": {
        "id": "vl2vUw2QMOC5"
      },
      "execution_count": null,
      "outputs": []
    },
    {
      "cell_type": "code",
      "source": [
        "\n",
        "fig = px.scatter(data_umap_vis_super, x=0, y=1, color= T_16S.g__Anaerococcus)\n",
        "\n",
        "fig.update_layout({'plot_bgcolor':'rgba(0,0,0,0)'\n",
        "    \n",
        "})\n",
        "fig.update_traces(marker=dict(size=5))\n",
        "fig.show()"
      ],
      "metadata": {
        "id": "NU1lyjsvMXw_"
      },
      "execution_count": null,
      "outputs": []
    },
    {
      "cell_type": "code",
      "source": [
        "import numpy as np\n",
        "import seaborn as sns\n",
        "\n",
        "\n",
        "\n",
        "# create two dataframes\n",
        "df1 = imputed_ALL[T_16S_labels['SampleType'] == 'Healthy'].sort_index()\n",
        "df2 =  shotgun_Healthy.sort_index()\n",
        "\n",
        "# calculate the correlation matrix between the two dataframes\n",
        "corr_mat = np.corrcoef(df1.values.flatten(), df2.values.flatten()).reshape((2,2))\n",
        "corr_mat"
      ],
      "metadata": {
        "id": "F0qnvRUoSxg3"
      },
      "execution_count": null,
      "outputs": []
    },
    {
      "cell_type": "code",
      "source": [
        "import seaborn as sns\n",
        "import matplotlib.pyplot as plt\n",
        "fig, ax = plt.subplots(figsize=(12*2, 10*2)) # set the figure size\n",
        "sns.heatmap(df1.corr(), cmap='coolwarm', ax=ax)"
      ],
      "metadata": {
        "id": "FWEiHKzSSxU4"
      },
      "execution_count": null,
      "outputs": []
    },
    {
      "cell_type": "code",
      "source": [
        "fig, ax = plt.subplots(figsize=(12*2, 10*2)) # set the figure size\n",
        "sns.heatmap(df2.corr(), cmap='coolwarm', ax=ax)"
      ],
      "metadata": {
        "id": "ruIqyDo0Sq9W"
      },
      "execution_count": null,
      "outputs": []
    },
    {
      "cell_type": "code",
      "source": [],
      "metadata": {
        "id": "6vjwSxupSq6_"
      },
      "execution_count": null,
      "outputs": []
    },
    {
      "cell_type": "code",
      "source": [],
      "metadata": {
        "id": "U5amOU5ASq4Y"
      },
      "execution_count": null,
      "outputs": []
    },
    {
      "cell_type": "code",
      "source": [],
      "metadata": {
        "id": "rkp-5qjGSq1S"
      },
      "execution_count": null,
      "outputs": []
    },
    {
      "cell_type": "code",
      "execution_count": null,
      "metadata": {
        "id": "771c_C-0cWK-"
      },
      "outputs": [],
      "source": []
    },
    {
      "cell_type": "code",
      "execution_count": null,
      "metadata": {
        "id": "a40jLwEmGa-U"
      },
      "outputs": [],
      "source": [
        "import scprep\n",
        "import seaborn as sns\n",
        "imp_all = scprep.select.highly_variable_genes(imputed_ALL,percentile=80)\n",
        "# heatmap labels\n",
        "labels_umap_=sample_data\n",
        "lol= sns.color_palette('pastel')\n",
        "lut = dict(zip(labels_umap_.unique(), lol))\n",
        "row_colors = labels_umap_.map(lut)\n",
        "\n",
        "ax = sns.clustermap(imp_all.iloc[:,:100],row_colors=row_colors.to_numpy(),yticklabels=False,xticklabels=False,col_cluster=True,row_cluster=True,cmap=\"GnBu\",figsize=(10, 6),dendrogram_ratio=0.1,standard_scale=1\n",
        "                    ,cbar_pos=(1, 0.8, 0.05, 0.18))"
      ]
    },
    {
      "cell_type": "markdown",
      "metadata": {
        "id": "gZ5l-0FfMEMY"
      },
      "source": [
        "#**imputation mb-PHENIX in a UNsurpervised manner** just like sc-phenix"
      ]
    },
    {
      "cell_type": "code",
      "execution_count": null,
      "metadata": {
        "id": "giaA9B1L9w13"
      },
      "outputs": [],
      "source": [
        "umap_op = umap.UMAP(n_components=10, verbose=True,metric='cosine',n_epochs=500,min_dist=0.5,n_neighbors=200,random_state=1,)\n",
        "data_umap_vis_unsuper = umap_op.fit_transform(complement_asvstable)"
      ]
    },
    {
      "cell_type": "code",
      "execution_count": null,
      "metadata": {
        "id": "gNbBiVGQu1xV"
      },
      "outputs": [],
      "source": [
        "imputed_ALL_unsuper =mbPHENIX(complement_asvstable, data_umap_vis_unsuper, t=5,decay=1,metric='euclidean',knn=10)"
      ]
    },
    {
      "cell_type": "code",
      "execution_count": null,
      "metadata": {
        "id": "Wz6Rb44kcPFE"
      },
      "outputs": [],
      "source": [
        "imp_all = scprep.select.highly_variable_genes(imputed_ALL_unsuper,percentile=80)\n",
        "import seaborn as sns\n",
        "# Etiquetas para heatmaps\n",
        "labels_umap_=sample_data\n",
        "lol= sns.color_palette('pastel')\n",
        "lut = dict(zip(labels_umap_.unique(), lol))\n",
        "row_colors = labels_umap_.map(lut)\n",
        "\n",
        "ax = sns.clustermap(imp_all.iloc[:,:100],row_colors=row_colors.to_numpy(),yticklabels=False,xticklabels=False,col_cluster=True,row_cluster=True,cmap=\"GnBu\",figsize=(10, 6),dendrogram_ratio=0.1,standard_scale=1\n",
        "                    ,cbar_pos=(1, 0.8, 0.05, 0.18))"
      ]
    },
    {
      "cell_type": "markdown",
      "metadata": {
        "id": "k74RKZ0R9gGu"
      },
      "source": [
        "#*Non-imputed data distribution by status clusters*\n",
        "\n",
        "\n",
        "\n"
      ]
    },
    {
      "cell_type": "code",
      "execution_count": null,
      "metadata": {
        "id": "mVUDOW-TAipZ"
      },
      "outputs": [],
      "source": [
        "complement_asvstable"
      ]
    },
    {
      "cell_type": "code",
      "execution_count": null,
      "metadata": {
        "id": "TYScueCo9x4v"
      },
      "outputs": [],
      "source": [
        "dataframe_noimp =  complement_asvstable.copy()\n"
      ]
    },
    {
      "cell_type": "code",
      "execution_count": null,
      "metadata": {
        "id": "HCdPrsIC_fW3"
      },
      "outputs": [],
      "source": [
        "dataframe_noimp"
      ]
    },
    {
      "cell_type": "code",
      "execution_count": null,
      "metadata": {
        "id": "rIJezjOGKf7g"
      },
      "outputs": [],
      "source": [
        "dataframe_noimp.to_csv('TD2.csv')"
      ]
    },
    {
      "cell_type": "code",
      "execution_count": null,
      "metadata": {
        "id": "StzW1lFxFX-k"
      },
      "outputs": [],
      "source": [
        "name_1 = 'Bacteria;Verrucomicrobia;Verrucomicrobiae;Verrucomicrobiales;Verrucomicrobiaceae;Akkermansia'"
      ]
    },
    {
      "cell_type": "code",
      "execution_count": null,
      "metadata": {
        "id": "5CuN49t9WEKj"
      },
      "outputs": [],
      "source": [
        "sample_data_1"
      ]
    },
    {
      "cell_type": "code",
      "execution_count": null,
      "metadata": {
        "id": "V5HvaP0a9x15"
      },
      "outputs": [],
      "source": [
        "dataframe_noimp['status']= sample_data_1['status']"
      ]
    },
    {
      "cell_type": "code",
      "execution_count": null,
      "metadata": {
        "id": "b8CitcEQPV3r"
      },
      "outputs": [],
      "source": [
        "dataframe_noimp.columns[50]"
      ]
    },
    {
      "cell_type": "code",
      "execution_count": null,
      "metadata": {
        "id": "1GBHgkGeVyib"
      },
      "outputs": [],
      "source": [
        "dataframe_noimp"
      ]
    },
    {
      "cell_type": "code",
      "execution_count": null,
      "metadata": {
        "id": "86ImiZVlsNWs"
      },
      "outputs": [],
      "source": [
        "#name_1=\"Bacteria;Bacteroidetes;Bacteroidia;Bacteroidales;Rikenellaceae;Alistipes\""
      ]
    },
    {
      "cell_type": "code",
      "execution_count": null,
      "metadata": {
        "id": "2dN_r7TN9xre"
      },
      "outputs": [],
      "source": [
        "sns.displot(dataframe_noimp, x=name_1, hue=\"status\", kind=\"kde\", fill=True,height=8, aspect=1)"
      ]
    },
    {
      "cell_type": "code",
      "execution_count": null,
      "metadata": {
        "id": "qXpIR5X7f1xz"
      },
      "outputs": [],
      "source": [
        "imp_all = scprep.select.highly_variable_genes(complement_asvstable,percentile=80)\n",
        "import seaborn as sns\n",
        "# Etiquetas para heatmaps\n",
        "labels_umap_=sample_data\n",
        "lol= sns.color_palette('pastel')\n",
        "lut = dict(zip(labels_umap_.unique(), lol))\n",
        "row_colors = labels_umap_.map(lut)\n",
        "\n",
        "ax = sns.clustermap(imp_all.iloc[:,:100],row_colors=row_colors.to_numpy(),yticklabels=False,xticklabels=False,col_cluster=True,row_cluster=True,cmap=\"GnBu\",figsize=(10, 6),dendrogram_ratio=0.1,standard_scale=1\n",
        "                    ,cbar_pos=(1, 0.8, 0.05, 0.18))"
      ]
    },
    {
      "cell_type": "markdown",
      "metadata": {
        "id": "4ZywAKcKfz3V"
      },
      "source": []
    },
    {
      "cell_type": "markdown",
      "metadata": {
        "id": "hHWNPNKw-BdI"
      },
      "source": [
        "#*Unsupervised imputed data distribution by status clusters (UMAP non supervised) for mb-phenix* "
      ]
    },
    {
      "cell_type": "code",
      "execution_count": null,
      "metadata": {
        "id": "vHRa4eBGVkgS"
      },
      "outputs": [],
      "source": [
        "imputed_ALL_unsuper"
      ]
    },
    {
      "cell_type": "code",
      "execution_count": null,
      "metadata": {
        "id": "6UnyWpDbBgGx"
      },
      "outputs": [],
      "source": [
        "dataframe_imp_super=  imputed_ALL_unsuper.copy()"
      ]
    },
    {
      "cell_type": "code",
      "execution_count": null,
      "metadata": {
        "id": "niy0pwL-BpnW"
      },
      "outputs": [],
      "source": [
        "dataframe_imp_super['status']= sample_data_1['status']"
      ]
    },
    {
      "cell_type": "code",
      "execution_count": null,
      "metadata": {
        "id": "zaBaYWdIEuWv"
      },
      "outputs": [],
      "source": []
    },
    {
      "cell_type": "code",
      "execution_count": null,
      "metadata": {
        "id": "WPsvHLzPEidT"
      },
      "outputs": [],
      "source": [
        "import scprep\n",
        "#z_score=1\n",
        "import seaborn as sns\n",
        "# Etiquetas para heatmaps\n",
        "labels_umap_=sample_data\n",
        "lol= sns.color_palette('pastel')\n",
        "lut = dict(zip(labels_umap_.unique(), lol))\n",
        "row_colors = labels_umap_.map(lut)\n",
        "\n",
        "imp_dataframe_imp_super = scprep.select.highly_variable_genes(imputed_ALL_unsuper,percentile=80)\n",
        "ax = sns.clustermap(imp_dataframe_imp_super.iloc[:,:],row_colors=row_colors.to_numpy(),yticklabels=False,xticklabels=False,col_cluster=True,row_cluster=True,cmap=\"GnBu\",figsize=(20, 6),dendrogram_ratio=0.1,standard_scale=1\n",
        "                    ,cbar_pos=(1, 0.8, 0.05, 0.18))"
      ]
    },
    {
      "cell_type": "code",
      "execution_count": null,
      "metadata": {
        "id": "hcLU1MU8-PyT"
      },
      "outputs": [],
      "source": [
        "b= sns.displot(dataframe_imp_super, x=name_1, hue=\"status\", kind=\"kde\", fill=True,log_scale=False,height=8, aspect=1)\n",
        "#b.set(xlim=(0.005, 37))"
      ]
    },
    {
      "cell_type": "code",
      "execution_count": null,
      "metadata": {
        "id": "_wa0yKsi_ghZ"
      },
      "outputs": [],
      "source": [
        "b= sns.displot(dataframe_imp_super, x=name_1, hue=\"status\", kind=\"kde\", fill=True,log_scale=False)\n",
        "#b.set(xlim=())"
      ]
    },
    {
      "cell_type": "markdown",
      "metadata": {
        "id": "pSRJsVZs9A3P"
      },
      "source": [
        "MAGIC"
      ]
    },
    {
      "cell_type": "code",
      "execution_count": null,
      "metadata": {
        "id": "qDZc0d1ZOjXp"
      },
      "outputs": [],
      "source": [
        "import magic\n",
        "magic_operator = magic.MAGIC()\n",
        "X_magic = magic_operator.fit_transform(complement_asvstable)"
      ]
    },
    {
      "cell_type": "code",
      "execution_count": null,
      "metadata": {
        "id": "hV1ear_KPT-p"
      },
      "outputs": [],
      "source": [
        "dataframe_imp_MAGIC=  X_magic.copy()\n",
        "dataframe_imp_MAGIC['status']= sample_data_1['status']"
      ]
    },
    {
      "cell_type": "code",
      "execution_count": null,
      "metadata": {
        "id": "c_VE_8_HJ-O7"
      },
      "outputs": [],
      "source": [
        "import scprep\n",
        "#z_score=1\n",
        "import seaborn as sns\n",
        "# Etiquetas para heatmaps\n",
        "labels_umap_=sample_data\n",
        "lol= sns.color_palette('pastel')\n",
        "lut = dict(zip(labels_umap_.unique(), lol))\n",
        "row_colors = labels_umap_.map(lut)\n",
        "\n",
        "imp_all = scprep.select.highly_variable_genes(X_magic,percentile=80)\n",
        "ax = sns.clustermap(imp_all.iloc[:,:],row_colors=row_colors.to_numpy(),yticklabels=False,xticklabels=False,col_cluster=True,row_cluster=True,cmap=\"GnBu\",figsize=(20, 6),dendrogram_ratio=0.1,standard_scale=1\n",
        "                    ,cbar_pos=(1, 0.8, 0.05, 0.18))"
      ]
    },
    {
      "cell_type": "code",
      "execution_count": null,
      "metadata": {
        "id": "ckROXzFnLy8k"
      },
      "outputs": [],
      "source": [
        "X_magic"
      ]
    },
    {
      "cell_type": "code",
      "execution_count": null,
      "metadata": {
        "id": "clfDRwbBPBMy"
      },
      "outputs": [],
      "source": [
        "name_1= \"Bacteria;Verrucomicrobia;Verrucomicrobiae;Verrucomicrobiales;Verrucomicrobiaceae;Akkermansia\"\n",
        "b= sns.displot(dataframe_imp_MAGIC, x=name_1, hue=\"status\", kind=\"kde\", fill=True,log_scale=False,height=8, aspect=1)\n",
        "#b.set(xlim=())"
      ]
    },
    {
      "cell_type": "markdown",
      "metadata": {
        "id": "hLE1jn9eCe_e"
      },
      "source": [
        "#*Superviced imputed data distribution by status clusters*"
      ]
    },
    {
      "cell_type": "code",
      "execution_count": null,
      "metadata": {
        "id": "4FJFS00xcF5T"
      },
      "outputs": [],
      "source": [
        "imputed_ALL"
      ]
    },
    {
      "cell_type": "code",
      "execution_count": null,
      "metadata": {
        "id": "N812fYinCL6Z"
      },
      "outputs": [],
      "source": [
        "dataframe_imp_super=  imputed_ALL.copy()\n",
        "dataframe_imp_super['status']= sample_data_1['status']"
      ]
    },
    {
      "cell_type": "code",
      "execution_count": null,
      "metadata": {
        "id": "9-20SrhCbd0m"
      },
      "outputs": [],
      "source": [
        "import seaborn as sns\n",
        "a = sns.displot(dataframe_imp_super, x=name_1, hue=\"status\", kind=\"kde\", fill=True,log_scale=True,height=8, aspect=1)\n",
        "a.set(xlim=(2000, 9000))"
      ]
    },
    {
      "cell_type": "code",
      "execution_count": null,
      "metadata": {
        "id": "9N5jaWkKh9vH"
      },
      "outputs": [],
      "source": [
        "#name_1=\"Bacteria;Firmicutes;Clostridia;Clostridiales;Lachnospiraceae;Blautia\"\n",
        "#import seaborn as sns\n",
        "#a = sns.displot(dataframe_imp_super, x=name_1, hue=\"status\", kind=\"kde\", fill=True,log_scale=True,aspect=1)\n",
        "#a.set(xlim=(2000, 9000))"
      ]
    },
    {
      "cell_type": "code",
      "execution_count": null,
      "metadata": {
        "id": "LBzogsXTihpW"
      },
      "outputs": [],
      "source": [
        "name_1=\"Bacteria;Firmicutes;Negativicutes;Selenomonadales;Veillonellaceae;Anaerovibrio\"\n",
        "import seaborn as sns\n",
        "a = sns.displot(dataframe_imp_super, x=name_1, hue=\"status\", kind=\"kde\", fill=True,log_scale=True,aspect=1)\n",
        "a.set(yticklabels=[])\n",
        "\n",
        "a.set(xlim=(2000, 9000))"
      ]
    },
    {
      "cell_type": "code",
      "execution_count": null,
      "metadata": {
        "id": "Su3jEGf6ihjW"
      },
      "outputs": [],
      "source": [
        "name_1=\"Bacteria;Firmicutes;Clostridia;Clostridiales;Lachnospiraceae;Anaerostipes\"\n",
        "import seaborn as sns\n",
        "a = sns.displot(dataframe_imp_super, x=name_1, hue=\"status\", kind=\"kde\", fill=True,log_scale=True,aspect=1)\n",
        "a.set(yticklabels=[])"
      ]
    },
    {
      "cell_type": "code",
      "execution_count": null,
      "metadata": {
        "id": "k-b57t6Jl5il"
      },
      "outputs": [],
      "source": [
        "name_1=\"Bacteria;Proteobacteria;Gammaproteobacteria;Enterobacterales;Enterobacteriaceae;Escherichia.Shigella\"\n",
        "import seaborn as sns\n",
        "a = sns.displot(dataframe_imp_super, x=name_1, hue=\"status\", kind=\"kde\", fill=True,log_scale=True,aspect=1)\n",
        "a.set(xticklabels=[])\n",
        "a.set(yticklabels=[])\n"
      ]
    },
    {
      "cell_type": "code",
      "execution_count": null,
      "metadata": {
        "id": "y85y7EwDnvus"
      },
      "outputs": [],
      "source": [
        "name_1= \"Bacteria;Firmicutes;Clostridia;Clostridiales;Peptostreptococcaceae;Romboutsia\"\n",
        "import seaborn as sns\n",
        "a = sns.displot(dataframe_imp_super, x=name_1, hue=\"status\", kind=\"kde\", fill=True,log_scale=True,aspect=3)\n",
        "a.set(yticklabels=[])"
      ]
    },
    {
      "cell_type": "code",
      "execution_count": null,
      "metadata": {
        "id": "dlpdXP8epXTl"
      },
      "outputs": [],
      "source": [
        "name_1= \"Bacteria;Firmicutes;Bacilli;Lactobacillales;Enterococcaceae;Enterococcus\"\n",
        "import seaborn as sns\n",
        "a = sns.displot(dataframe_imp_super, x=name_1, hue=\"status\", kind=\"kde\", fill=True,log_scale=True,aspect=3)\n",
        "a.set(yticklabels=[])"
      ]
    },
    {
      "cell_type": "code",
      "execution_count": null,
      "metadata": {
        "id": "_j7vvmRPqOWf"
      },
      "outputs": [],
      "source": [
        "name_1 = \"Bacteria;Bacteroidetes;Bacteroidia;Bacteroidales;Rikenellaceae;Alistipes\"\n",
        "import seaborn as sns\n",
        "a = sns.displot(dataframe_imp_super, x=name_1, hue=\"status\", kind=\"kde\", fill=True,log_scale=True,aspect=3)\n",
        "a.set(yticklabels=[])"
      ]
    },
    {
      "cell_type": "code",
      "execution_count": null,
      "metadata": {
        "id": "joZI69fYri3F"
      },
      "outputs": [],
      "source": [
        "name_1 = \"Bacteria;Firmicutes;Clostridia;Clostridiales;Ruminococcaceae;Ruminococcaceae_UCG.005\"\n",
        "a = sns.displot(dataframe_imp_super, x=name_1, hue=\"status\", kind=\"kde\", fill=True,log_scale=True,aspect=3)\n",
        "a.set(yticklabels=[])"
      ]
    },
    {
      "cell_type": "code",
      "execution_count": null,
      "metadata": {
        "id": "u-mbG1ZUtUtL"
      },
      "outputs": [],
      "source": [
        "name_1 = \"Bacteria;Firmicutes;Clostridia;Clostridiales;Ruminococcaceae;Ruminococcaceae_UCG.003\"\n",
        "a = sns.displot(dataframe_imp_super, x=name_1, hue=\"status\", kind=\"kde\", fill=True,log_scale=True,aspect=3)\n",
        "a.set(yticklabels=[])"
      ]
    },
    {
      "cell_type": "code",
      "execution_count": null,
      "metadata": {
        "id": "dOVtXP90tcvq"
      },
      "outputs": [],
      "source": [
        "name_1 = \"Bacteria;Firmicutes;Clostridia;Clostridiales;Ruminococcaceae;Ruminococcaceae_UCG.005\"\n",
        "a = sns.displot(dataframe_imp_super, x=name_1, hue=\"status\", kind=\"kde\", fill=True,log_scale=True,aspect=3)\n",
        "a.set(yticklabels=[])"
      ]
    },
    {
      "cell_type": "code",
      "execution_count": null,
      "metadata": {
        "id": "Wh5j_xDPu-wR"
      },
      "outputs": [],
      "source": [
        "name_1 = \"Bacteria;Firmicutes;Clostridia;Clostridiales;Lachnospiraceae;Roseburia\"\n",
        "a = sns.displot(dataframe_imp_super, x=name_1, hue=\"status\", kind=\"kde\", fill=True,log_scale=True,aspect=3)\n",
        "a.set(yticklabels=[])"
      ]
    },
    {
      "cell_type": "code",
      "execution_count": null,
      "metadata": {
        "id": "amnaAmAsYdEF"
      },
      "outputs": [],
      "source": [
        "!pip install scprep\n",
        "import scprep\n",
        "x=scprep.stats.differential_expression_by_cluster(dataframe_imp_super.iloc[:,:-1], sample_data_4umap, measure='emd', direction='both', gene_names=None, n_jobs=-2)"
      ]
    },
    {
      "cell_type": "code",
      "execution_count": null,
      "metadata": {
        "id": "v2UlXuruYeNg"
      },
      "outputs": [],
      "source": [
        "#clasesdic={\"healthy\":0,\"IFG\":1,\"IGT\":2,\"IFG+IGT\":3,\"T2D\":4,\"T2D_treated\":5}\n",
        "emd = pd.DataFrame([       x[0]['emd'].rename('healthy'),      x[1]['emd'].rename('IFG'),\n",
        "               x[2]['emd'].rename('IGT')  , x[3]['emd'].rename('IFG+IG') ,\n",
        "                 x[4]['emd'].rename('T2D') ,  x[5]['emd'].rename('T2D_treated')])"
      ]
    },
    {
      "cell_type": "code",
      "execution_count": null,
      "metadata": {
        "id": "kgyOr3V5-eTI"
      },
      "outputs": [],
      "source": []
    },
    {
      "cell_type": "code",
      "execution_count": null,
      "metadata": {
        "id": "0vlkeEfLYhk4"
      },
      "outputs": [],
      "source": [
        "c= pd.DataFrame()\n",
        "#c['Akkermansia'] = emd['Bacteria;Verrucomicrobia;Verrucomicrobiae;Verrucomicrobiales;Verrucomicrobiaceae;Akkermansia']"
      ]
    },
    {
      "cell_type": "code",
      "execution_count": null,
      "metadata": {
        "id": "l_PIw6f7_dhd"
      },
      "outputs": [],
      "source": [
        "imp_all = scprep.select.highly_variable_genes(imputed_ALL,percentile=80)"
      ]
    },
    {
      "cell_type": "code",
      "execution_count": null,
      "metadata": {
        "id": "GAcmH14zYodA"
      },
      "outputs": [],
      "source": [
        "ax = sns.clustermap(imp_all.iloc[:,:],row_colors=row_colors.to_numpy(),yticklabels=False,xticklabels=True,col_cluster=True,row_cluster=True,cmap=\"GnBu\",figsize=(20, 6),dendrogram_ratio=0.1,standard_scale=1\n",
        "                    ,cbar_pos=(1, 0.8, 0.05, 0.18))"
      ]
    },
    {
      "cell_type": "code",
      "execution_count": null,
      "metadata": {
        "id": "4wkfZdvV3oAf"
      },
      "outputs": [],
      "source": [
        "import seaborn as sns\n",
        "a = sns.displot(dataframe_imp_super, x=name_1, hue=\"status\", kind=\"kde\", fill=True,log_scale=True)\n",
        "a.set(xlim=(2000, 9000))"
      ]
    },
    {
      "cell_type": "code",
      "execution_count": null,
      "metadata": {
        "id": "9w_-HTmVRnUn"
      },
      "outputs": [],
      "source": []
    },
    {
      "cell_type": "code",
      "execution_count": null,
      "metadata": {
        "id": "6i48E2dI0G0l"
      },
      "outputs": [],
      "source": [
        "name_1 = 'Bacteria;Proteobacteria;Betaproteobacteria;Burkholderiales;Alcaligenaceae;Achromobacter'\n",
        "\n",
        "dataframe_imp_super.columns\n",
        "a = sns.displot(dataframe_imp_super, x=name_1, hue=\"status\", kind=\"kde\", fill=True,log_scale=True)\n",
        "a.set(xlim=(0.1, 6))"
      ]
    },
    {
      "cell_type": "markdown",
      "metadata": {
        "id": "HiOSUWuVJpzu"
      },
      "source": [
        "**Install dependencies for Heatmap**"
      ]
    },
    {
      "cell_type": "code",
      "execution_count": null,
      "metadata": {
        "id": "zPhhxFi0JpIV"
      },
      "outputs": [],
      "source": [
        "imp_all = scprep.select.highly_variable_genes(imputed_ALL,percentile=80)"
      ]
    },
    {
      "cell_type": "code",
      "execution_count": null,
      "metadata": {
        "id": "qSu-FwUCIEGY"
      },
      "outputs": [],
      "source": [
        "#z_score=1\n",
        "import seaborn as sns\n",
        "# Etiquetas para heatmaps\n",
        "labels_umap_=sample_data\n",
        "lol= sns.color_palette('pastel')\n",
        "lut = dict(zip(labels_umap_.unique(), lol))\n",
        "row_colors = labels_umap_.map(lut)\n",
        "\n",
        "ax = sns.clustermap(imp_all.iloc[:,:100],row_colors=row_colors.to_numpy(),yticklabels=False,xticklabels=False,col_cluster=True,row_cluster=True,cmap=\"GnBu\",figsize=(10, 6),dendrogram_ratio=0.1,standard_scale=1\n",
        "                    ,cbar_pos=(1, 0.8, 0.05, 0.18))"
      ]
    },
    {
      "cell_type": "code",
      "execution_count": null,
      "metadata": {
        "id": "JHeWJiQ7GkBB"
      },
      "outputs": [],
      "source": [
        "imp_all = scprep.select.highly_variable_genes(imputed_ALL_unsuper,percentile=80)"
      ]
    },
    {
      "cell_type": "code",
      "execution_count": null,
      "metadata": {
        "id": "YZz3YeJTGizM"
      },
      "outputs": [],
      "source": [
        "#z_score=1\n",
        "import seaborn as sns\n",
        "# Etiquetas para heatmaps\n",
        "labels_umap_=sample_data\n",
        "lol= sns.color_palette('pastel')\n",
        "lut = dict(zip(labels_umap_.unique(), lol))\n",
        "row_colors = labels_umap_.map(lut)\n",
        "\n",
        "ax = sns.clustermap(imp_all.iloc[:,:100],row_colors=row_colors.to_numpy(),yticklabels=False,xticklabels=False,col_cluster=True,row_cluster=True,cmap=\"GnBu\",figsize=(10, 6),dendrogram_ratio=0.1,standard_scale=1\n",
        "                    ,cbar_pos=(1, 0.8, 0.05, 0.18))"
      ]
    },
    {
      "cell_type": "code",
      "execution_count": null,
      "metadata": {
        "id": "owlbTQISI7e9"
      },
      "outputs": [],
      "source": [
        "#z_score=1\n",
        "\n",
        "imp_all = scprep.select.highly_variable_genes(complement_asvstable,percentile=80)\n",
        "import seaborn as sns\n",
        "# Etiquetas para heatmaps\n",
        "labels_umap_=sample_data\n",
        "lol= sns.color_palette('pastel')\n",
        "lut = dict(zip(labels_umap_.unique(), lol))\n",
        "row_colors = labels_umap_.map(lut)\n",
        "\n",
        "ax = sns.clustermap(imp_all.iloc[:,:100],row_colors=row_colors.to_numpy(),yticklabels=False,xticklabels=False,col_cluster=True,row_cluster=True,cmap=\"GnBu\",figsize=(10, 6),dendrogram_ratio=0.1,standard_scale=1\n",
        "                    ,cbar_pos=(1, 0.8, 0.05, 0.18))"
      ]
    },
    {
      "cell_type": "markdown",
      "metadata": {
        "id": "t4wWQe8CgCmX"
      },
      "source": [
        "##**Try Different target_ weight values**"
      ]
    },
    {
      "cell_type": "code",
      "execution_count": null,
      "metadata": {
        "id": "DLuPipBgf_Bt"
      },
      "outputs": [],
      "source": [
        "target_weight= 0.9\n",
        "\n",
        "\n",
        "umap_op = umap.UMAP(n_components=10, verbose=True,metric='cosine',n_epochs=10000,min_dist=0.1,\n",
        "                    n_neighbors=200,random_state=1,target_weight=target_weight)\n",
        "data_umap_vis_super = umap_op.fit_transform(complement_asvstable,sample_data_4umap)"
      ]
    },
    {
      "cell_type": "code",
      "execution_count": null,
      "metadata": {
        "id": "UXu4_fhJFu4-"
      },
      "outputs": [],
      "source": [
        "imputed_ALL_unsuper =mbPHENIX(complement_asvstable, data_umap_vis_super, t=5,decay=1,metric='euclidean',knn=10)"
      ]
    },
    {
      "cell_type": "code",
      "execution_count": null,
      "metadata": {
        "id": "2Y0hRD7UiLQk"
      },
      "outputs": [],
      "source": [
        "imp_all = scprep.select.highly_variable_genes(imputed_ALL_unsuper,percentile=80)"
      ]
    },
    {
      "cell_type": "code",
      "execution_count": null,
      "metadata": {
        "id": "9zuJLe9NJkU-"
      },
      "outputs": [],
      "source": [
        "#z_score=1\n",
        "imp_all = scprep.select.highly_variable_genes(imputed_ALL_unsuper,percentile=80)\n",
        "import seaborn as sns\n",
        "# Etiquetas para heatmaps\n",
        "labels_umap_=sample_data\n",
        "lol= sns.color_palette('pastel')\n",
        "lut = dict(zip(labels_umap_.unique(), lol))\n",
        "row_colors = labels_umap_.map(lut)\n",
        "\n",
        "ax = sns.clustermap(imp_all.iloc[:,:100],row_colors=row_colors.to_numpy(),yticklabels=False,xticklabels=False,col_cluster=True,row_cluster=True,cmap=\"GnBu\",figsize=(10, 6),dendrogram_ratio=0.1,standard_scale=1\n",
        "                    ,cbar_pos=(1, 0.8, 0.05, 0.18))"
      ]
    }
  ],
  "metadata": {
    "colab": {
      "provenance": []
    },
    "kernelspec": {
      "display_name": "Python 3",
      "name": "python3"
    },
    "language_info": {
      "name": "python"
    },
    "widgets": {
      "application/vnd.jupyter.widget-state+json": {
        "de6f7a4efd724acaa863e852a540528f": {
          "model_module": "@jupyter-widgets/controls",
          "model_name": "HBoxModel",
          "model_module_version": "1.5.0",
          "state": {
            "_dom_classes": [],
            "_model_module": "@jupyter-widgets/controls",
            "_model_module_version": "1.5.0",
            "_model_name": "HBoxModel",
            "_view_count": null,
            "_view_module": "@jupyter-widgets/controls",
            "_view_module_version": "1.5.0",
            "_view_name": "HBoxView",
            "box_style": "",
            "children": [
              "IPY_MODEL_ef4cb4dd5187407e8b74d499180a525c",
              "IPY_MODEL_5bfc7c0017034b37a0cb44bedb7b7e1c",
              "IPY_MODEL_22dcfe7b239b405e9a9351df33a8b8bf"
            ],
            "layout": "IPY_MODEL_bd806440a1a848a681be0f3792c19dc8"
          }
        },
        "ef4cb4dd5187407e8b74d499180a525c": {
          "model_module": "@jupyter-widgets/controls",
          "model_name": "HTMLModel",
          "model_module_version": "1.5.0",
          "state": {
            "_dom_classes": [],
            "_model_module": "@jupyter-widgets/controls",
            "_model_module_version": "1.5.0",
            "_model_name": "HTMLModel",
            "_view_count": null,
            "_view_module": "@jupyter-widgets/controls",
            "_view_module_version": "1.5.0",
            "_view_name": "HTMLView",
            "description": "",
            "description_tooltip": null,
            "layout": "IPY_MODEL_2571c05cb9404b62b2a6f8c7ab2d43e9",
            "placeholder": "​",
            "style": "IPY_MODEL_9fa23a6a0b4b4fe2af2c62b2577e5c6a",
            "value": "Epochs completed: 100%| "
          }
        },
        "5bfc7c0017034b37a0cb44bedb7b7e1c": {
          "model_module": "@jupyter-widgets/controls",
          "model_name": "FloatProgressModel",
          "model_module_version": "1.5.0",
          "state": {
            "_dom_classes": [],
            "_model_module": "@jupyter-widgets/controls",
            "_model_module_version": "1.5.0",
            "_model_name": "FloatProgressModel",
            "_view_count": null,
            "_view_module": "@jupyter-widgets/controls",
            "_view_module_version": "1.5.0",
            "_view_name": "ProgressView",
            "bar_style": "success",
            "description": "",
            "description_tooltip": null,
            "layout": "IPY_MODEL_c1d0ee0c5e07416e866c76e4f58d601e",
            "max": 500,
            "min": 0,
            "orientation": "horizontal",
            "style": "IPY_MODEL_ee14ab9565e244459f74cb662fa756e3",
            "value": 500
          }
        },
        "22dcfe7b239b405e9a9351df33a8b8bf": {
          "model_module": "@jupyter-widgets/controls",
          "model_name": "HTMLModel",
          "model_module_version": "1.5.0",
          "state": {
            "_dom_classes": [],
            "_model_module": "@jupyter-widgets/controls",
            "_model_module_version": "1.5.0",
            "_model_name": "HTMLModel",
            "_view_count": null,
            "_view_module": "@jupyter-widgets/controls",
            "_view_module_version": "1.5.0",
            "_view_name": "HTMLView",
            "description": "",
            "description_tooltip": null,
            "layout": "IPY_MODEL_8be245b54b764bd38bab1da32385703b",
            "placeholder": "​",
            "style": "IPY_MODEL_34601116624d4de28be9e9d956b6e9df",
            "value": " 500/500 [00:01]"
          }
        },
        "bd806440a1a848a681be0f3792c19dc8": {
          "model_module": "@jupyter-widgets/base",
          "model_name": "LayoutModel",
          "model_module_version": "1.2.0",
          "state": {
            "_model_module": "@jupyter-widgets/base",
            "_model_module_version": "1.2.0",
            "_model_name": "LayoutModel",
            "_view_count": null,
            "_view_module": "@jupyter-widgets/base",
            "_view_module_version": "1.2.0",
            "_view_name": "LayoutView",
            "align_content": null,
            "align_items": null,
            "align_self": null,
            "border": null,
            "bottom": null,
            "display": null,
            "flex": null,
            "flex_flow": null,
            "grid_area": null,
            "grid_auto_columns": null,
            "grid_auto_flow": null,
            "grid_auto_rows": null,
            "grid_column": null,
            "grid_gap": null,
            "grid_row": null,
            "grid_template_areas": null,
            "grid_template_columns": null,
            "grid_template_rows": null,
            "height": null,
            "justify_content": null,
            "justify_items": null,
            "left": null,
            "margin": null,
            "max_height": null,
            "max_width": null,
            "min_height": null,
            "min_width": null,
            "object_fit": null,
            "object_position": null,
            "order": null,
            "overflow": null,
            "overflow_x": null,
            "overflow_y": null,
            "padding": null,
            "right": null,
            "top": null,
            "visibility": null,
            "width": null
          }
        },
        "2571c05cb9404b62b2a6f8c7ab2d43e9": {
          "model_module": "@jupyter-widgets/base",
          "model_name": "LayoutModel",
          "model_module_version": "1.2.0",
          "state": {
            "_model_module": "@jupyter-widgets/base",
            "_model_module_version": "1.2.0",
            "_model_name": "LayoutModel",
            "_view_count": null,
            "_view_module": "@jupyter-widgets/base",
            "_view_module_version": "1.2.0",
            "_view_name": "LayoutView",
            "align_content": null,
            "align_items": null,
            "align_self": null,
            "border": null,
            "bottom": null,
            "display": null,
            "flex": null,
            "flex_flow": null,
            "grid_area": null,
            "grid_auto_columns": null,
            "grid_auto_flow": null,
            "grid_auto_rows": null,
            "grid_column": null,
            "grid_gap": null,
            "grid_row": null,
            "grid_template_areas": null,
            "grid_template_columns": null,
            "grid_template_rows": null,
            "height": null,
            "justify_content": null,
            "justify_items": null,
            "left": null,
            "margin": null,
            "max_height": null,
            "max_width": null,
            "min_height": null,
            "min_width": null,
            "object_fit": null,
            "object_position": null,
            "order": null,
            "overflow": null,
            "overflow_x": null,
            "overflow_y": null,
            "padding": null,
            "right": null,
            "top": null,
            "visibility": null,
            "width": null
          }
        },
        "9fa23a6a0b4b4fe2af2c62b2577e5c6a": {
          "model_module": "@jupyter-widgets/controls",
          "model_name": "DescriptionStyleModel",
          "model_module_version": "1.5.0",
          "state": {
            "_model_module": "@jupyter-widgets/controls",
            "_model_module_version": "1.5.0",
            "_model_name": "DescriptionStyleModel",
            "_view_count": null,
            "_view_module": "@jupyter-widgets/base",
            "_view_module_version": "1.2.0",
            "_view_name": "StyleView",
            "description_width": ""
          }
        },
        "c1d0ee0c5e07416e866c76e4f58d601e": {
          "model_module": "@jupyter-widgets/base",
          "model_name": "LayoutModel",
          "model_module_version": "1.2.0",
          "state": {
            "_model_module": "@jupyter-widgets/base",
            "_model_module_version": "1.2.0",
            "_model_name": "LayoutModel",
            "_view_count": null,
            "_view_module": "@jupyter-widgets/base",
            "_view_module_version": "1.2.0",
            "_view_name": "LayoutView",
            "align_content": null,
            "align_items": null,
            "align_self": null,
            "border": null,
            "bottom": null,
            "display": null,
            "flex": null,
            "flex_flow": null,
            "grid_area": null,
            "grid_auto_columns": null,
            "grid_auto_flow": null,
            "grid_auto_rows": null,
            "grid_column": null,
            "grid_gap": null,
            "grid_row": null,
            "grid_template_areas": null,
            "grid_template_columns": null,
            "grid_template_rows": null,
            "height": null,
            "justify_content": null,
            "justify_items": null,
            "left": null,
            "margin": null,
            "max_height": null,
            "max_width": null,
            "min_height": null,
            "min_width": null,
            "object_fit": null,
            "object_position": null,
            "order": null,
            "overflow": null,
            "overflow_x": null,
            "overflow_y": null,
            "padding": null,
            "right": null,
            "top": null,
            "visibility": null,
            "width": null
          }
        },
        "ee14ab9565e244459f74cb662fa756e3": {
          "model_module": "@jupyter-widgets/controls",
          "model_name": "ProgressStyleModel",
          "model_module_version": "1.5.0",
          "state": {
            "_model_module": "@jupyter-widgets/controls",
            "_model_module_version": "1.5.0",
            "_model_name": "ProgressStyleModel",
            "_view_count": null,
            "_view_module": "@jupyter-widgets/base",
            "_view_module_version": "1.2.0",
            "_view_name": "StyleView",
            "bar_color": null,
            "description_width": ""
          }
        },
        "8be245b54b764bd38bab1da32385703b": {
          "model_module": "@jupyter-widgets/base",
          "model_name": "LayoutModel",
          "model_module_version": "1.2.0",
          "state": {
            "_model_module": "@jupyter-widgets/base",
            "_model_module_version": "1.2.0",
            "_model_name": "LayoutModel",
            "_view_count": null,
            "_view_module": "@jupyter-widgets/base",
            "_view_module_version": "1.2.0",
            "_view_name": "LayoutView",
            "align_content": null,
            "align_items": null,
            "align_self": null,
            "border": null,
            "bottom": null,
            "display": null,
            "flex": null,
            "flex_flow": null,
            "grid_area": null,
            "grid_auto_columns": null,
            "grid_auto_flow": null,
            "grid_auto_rows": null,
            "grid_column": null,
            "grid_gap": null,
            "grid_row": null,
            "grid_template_areas": null,
            "grid_template_columns": null,
            "grid_template_rows": null,
            "height": null,
            "justify_content": null,
            "justify_items": null,
            "left": null,
            "margin": null,
            "max_height": null,
            "max_width": null,
            "min_height": null,
            "min_width": null,
            "object_fit": null,
            "object_position": null,
            "order": null,
            "overflow": null,
            "overflow_x": null,
            "overflow_y": null,
            "padding": null,
            "right": null,
            "top": null,
            "visibility": null,
            "width": null
          }
        },
        "34601116624d4de28be9e9d956b6e9df": {
          "model_module": "@jupyter-widgets/controls",
          "model_name": "DescriptionStyleModel",
          "model_module_version": "1.5.0",
          "state": {
            "_model_module": "@jupyter-widgets/controls",
            "_model_module_version": "1.5.0",
            "_model_name": "DescriptionStyleModel",
            "_view_count": null,
            "_view_module": "@jupyter-widgets/base",
            "_view_module_version": "1.2.0",
            "_view_name": "StyleView",
            "description_width": ""
          }
        }
      }
    }
  },
  "nbformat": 4,
  "nbformat_minor": 0
}